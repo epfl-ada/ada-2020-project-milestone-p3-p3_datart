{
 "cells": [
  {
   "cell_type": "markdown",
   "metadata": {},
   "source": [
    "# Creative extension analysis notebook\n",
    "\n",
    "---\n",
    "\n",
    "**Authors**\n",
    "\n",
    "- Jérémy Bensoussan\n",
    "- Ekaterina Kryukova\n",
    "- Jules Triomphe\n",
    "\n",
    "---\n",
    "\n",
    "## Abstract\n",
    "\n",
    "While the paper examines the exposure hypothesis for all topics, we propose to analyze and compare political and food related tweets. To do so, we plan to obtain egos, alters and their timelines from Twitter’s API by generating $3\\times30,000$ random numbers in a range from $0$ to $3,000,000,000$. Then, we intend to identify egos’ retweets using official RT, classify tweets by topics based on hashtags (and keywords if the dataset is lacking content) and create a follower/followee graph. To calculate the probability of retweeting alters’ tweets by egos we will use a more solid approach then what is described in the paper “Differences in the Mechanics of Information Diffusion Across Topics” where the probability is equal to the number of users that were k times exposed to a hashtag and retweeted before the ($k+1$)-th exposure, divided by the number of users that were k-times exposed to the hashtag. Finally, we plan to visualize results as well as analyze the probability by breaking down users based on betweenness, clustering coefficient and number of followees.\n",
    "\n",
    "## Research Questions\n",
    "\n",
    "1. Is there a significant difference between the probability of retweeting when the tweet is about food and when it is about politics ?\n",
    "2. Is there a significant difference in the number of times a tweet is retweeted depending on whether it is about food or politics ?\n",
    "3. Is there a relation between user betweenness, size of cluster or number of friends with the retweet probabilities ?\n",
    "\n",
    "## Proposed dataset\n",
    "\n",
    "Self-collected (with the Twitter API) ego and alter timelines with all tweet fields from the [**GET /2/users** endpoint](https://developer.twitter.com/en/docs/twitter-api/users/lookup/api-reference/get-users) and all user fields except for `profile_image_url`.\n",
    "\n",
    "## Methods\n",
    "\n",
    "### Data collection\n",
    "\n",
    "We will sign up for Twitter’s API to collect data. We will generate $3\\times30,000$ random numbers in a range from $0$ to $3,000,000,000$ as in the paper and use the [**GET /2/users** endpoint](https://developer.twitter.com/en/docs/twitter-api/users/lookup/api-reference/get-users) to collect active and public user information with all tweet fields and all user fields except for profile_image_url.\n",
    "\n",
    "### Building the network\n",
    "\n",
    "We will use networkx to build a directed network of followers  in which nodes are users (egos and alters) and edges are the following relationships (without the following relationships among alters). Next, we will build another network where relationships among alters of active egos are included.\n",
    "\n",
    "### Calculating retweet probability\n",
    "\n",
    "For each ego, we will count the number of followees who have retweeted a post (exposures) on a certain topic at a certain date. We will get the information like this: an ego $i$ was exposed to $200$ posts about this topic only once, among which $i$ retweeted $50$ (probability is $50/200 = 25\\%$); at the same time, $i$ was exposed to $100$ posts about this topic twice, among which $i$ retweeted $50$ ($probability = 50\\%$); … Finally, we will calculate a sequence of probability for each ego. (Same procedure as in the paper.) If there is sufficient data, we will apply a t-test to identify whether the distribution of retweets for each exposure count is significantly different from one topic to the other. We will also try to compare the distribution of retweet probabilities between topics.\n",
    "\n",
    "### Community detection\n",
    "\n",
    "We will use the second ego networks to compute clustering coefficients and betweenness of the active egos.\n",
    "\n",
    "### Data analysis\n",
    "\n",
    "We will compare the retweet probabilities based on betweenness, number of followers and clustering for each topic, much like in *Figure 6* in the paper.\n",
    "\n",
    "---"
   ]
  },
  {
   "cell_type": "markdown",
   "metadata": {},
   "source": [
    "## Initialisation\n",
    "\n",
    "Import modules."
   ]
  },
  {
   "cell_type": "code",
   "execution_count": 1,
   "metadata": {},
   "outputs": [
    {
     "name": "stderr",
     "output_type": "stream",
     "text": [
      "<ipython-input-1-21c4b87703f5>:5: TqdmExperimentalWarning: Using `tqdm.autonotebook.tqdm` in notebook mode. Use `tqdm.tqdm` instead to force console mode (e.g. in jupyter console)\n",
      "  from tqdm.autonotebook import tqdm, trange\n"
     ]
    }
   ],
   "source": [
    "# Import libraries\n",
    "import random\n",
    "import numpy as np\n",
    "import pandas as pd\n",
    "from tqdm.autonotebook import tqdm, trange\n",
    "import requests\n",
    "import time\n",
    "from datetime import datetime\n",
    "import os"
   ]
  },
  {
   "cell_type": "markdown",
   "metadata": {},
   "source": [
    "Setup automatic formatting (requires the `nb-black` package)."
   ]
  },
  {
   "cell_type": "code",
   "execution_count": 2,
   "metadata": {},
   "outputs": [],
   "source": [
    "# Enable auto-formatting\n",
    "\n",
    "%load_ext lab_black"
   ]
  },
  {
   "cell_type": "markdown",
   "metadata": {},
   "source": [
    "### Control center\n",
    "\n",
    "**This is the control center. All operations are decided here to avoid memory overflow and excessive computation times. This notebook should be run FROM THE TOP once these parameters have been set.** If in doubt, ask Jules ;)"
   ]
  },
  {
   "cell_type": "code",
   "execution_count": 3,
   "metadata": {},
   "outputs": [],
   "source": [
    "# Define constants\n",
    "\n",
    "# UserID range\n",
    "LOWER_ID_N = 0\n",
    "UPPER_ID_N = int(3e9)\n",
    "\n",
    "# UserID number\n",
    "N_UID_PER_REQUEST = int(3e4)\n",
    "N_UID_REQUESTS = 3\n",
    "\n",
    "# --------------------------------------------------\n",
    "\n",
    "# Choose whether to generate new UserIDs\n",
    "CREATE_NEW_UIDs = False\n",
    "\n",
    "# Choose whether to collect user data\n",
    "COLLECT_USER_DATA = False\n",
    "# Select the batch to query if collecting user data\n",
    "REQUEST_NUMBER = 2\n",
    "# Define behaviour depending on the run number.\n",
    "# If this is True then COLLECT_USER_DATA must be True\n",
    "FIRST_RUN = False\n",
    "\n",
    "# Chooser whether to create user subset files\n",
    "CREATE_USER_SUBSETS = False\n",
    "\n",
    "# Choose whether to create/reset data pull status\n",
    "CREATE_DATA_PULL_STATUS = False\n",
    "# Choose whether to pull new data and save it\n",
    "PULL_NEW_TIMELINE_DATA = False\n",
    "PULL_NEW_FF_DATA = True\n",
    "N_RUNS_PULL_FF_DATA = 50\n",
    "# Choose whether to save newly pulled data\n",
    "SAVE_PULLED_DATA = True\n",
    "\n",
    "# --------------------------------------------------\n",
    "\n",
    "# Data folder location\n",
    "DATA_FOLDER = \"./data/\"\n",
    "# UIDs\n",
    "UIDS_FILE = DATA_FOLDER + \"uids.csv\"\n",
    "# User files\n",
    "USERS_FOLDER = DATA_FOLDER + \"users/\"\n",
    "USERS_FILE = USERS_FOLDER + \"users.csv\"\n",
    "PUBLIC_USERS_FILE = USERS_FOLDER + \"public_users.csv\"\n",
    "PUBLIC_USERS_W_TWEETS_FILE = USERS_FOLDER + \"public_users_w_tweets.csv\"\n",
    "PUBLIC_USERS_W_FOLLOWERS_FILE = USERS_FOLDER + \"public_users_w_followers.csv\"\n",
    "PUBLIC_USERS_W_FRIENDS_FILE = USERS_FOLDER + \"public_users_w_friends.csv\"\n",
    "# Pulled data\n",
    "PUBLIC_USERS_PULL_STATUS_FILE = DATA_FOLDER + \"public_users_pull_status_ff.csv\"\n",
    "# Timeline files\n",
    "TIMELINES_FOLDER = DATA_FOLDER + \"timelines/\"\n",
    "PUBLIC_USERS_TIMELINES_FILE = TIMELINES_FOLDER + \"public_users_timelines.csv\"\n",
    "# Network\n",
    "NETWORK_FOLDER = DATA_FOLDER + \"network/\"\n",
    "PUBLIC_USERS_FOLLOWERS_FILE = NETWORK_FOLDER + \"public_users_followers.csv\"\n",
    "PUBLIC_USERS_FRIENDS_FILE = NETWORK_FOLDER + \"public_users_friends.csv\"\n",
    "# File containing the bearer token\n",
    "BEARER_TOKEN = DATA_FOLDER + \"bearer_token.auth\"\n",
    "\n",
    "# API endpoints\n",
    "API_USERS_ENDPOINT = \"https://api.twitter.com/2/users?ids=\"\n",
    "API_USER_FIELDS = \"user.fields=created_at,description,entities,id,location,name,pinned_tweet_id,protected,public_metrics,url,username,verified,withheld\"\n",
    "API_TWEET_FIELDS = \"tweet.fields=attachments,author_id,context_annotations,conversation_id,created_at,entities,geo,id,in_reply_to_user_id,lang,non_public_metrics,public_metrics,organic_metrics,promoted_metrics,possibly_sensitive,referenced_tweets,reply_settings,source,text,withheld\"\n",
    "API_V1_RATE_LIMITS = \"https://api.twitter.com/1.1/application/rate_limit_status.json?resources=application,statuses,followers,friends\"\n",
    "API_USER_TIMELINE_ENDPOINT = \"https://api.twitter.com/1.1/statuses/user_timeline.json\"\n",
    "API_FOLLOWERS_IDS_ENDPOINT = \"https://api.twitter.com/1.1/followers/ids.json\"\n",
    "API_FRIENDS_IDS_ENDPOINT = \"https://api.twitter.com/1.1/friends/ids.json\"\n",
    "\n",
    "# Random seed\n",
    "SEED = 30\n",
    "random.seed(SEED)"
   ]
  },
  {
   "cell_type": "markdown",
   "metadata": {},
   "source": [
    "---\n",
    "\n",
    "## Data collection\n",
    "\n",
    "In this part, we will generate random user IDs and collect their respective user information if they exist."
   ]
  },
  {
   "cell_type": "markdown",
   "metadata": {},
   "source": [
    "### UID generation\n",
    "\n",
    "Let's create random UIDs in the 0-3 billion range as discussed in the abstract.\n",
    "\n",
    "We reshape them to simplify queries due to Twitter's API's rate limits.\n",
    "\n",
    "If they have already been generated, we load them."
   ]
  },
  {
   "cell_type": "code",
   "execution_count": 4,
   "metadata": {},
   "outputs": [],
   "source": [
    "if CREATE_NEW_UIDs:\n",
    "    uids = pd.DataFrame(\n",
    "        np.array(\n",
    "            random.sample(\n",
    "                range(LOWER_ID_N, UPPER_ID_N), N_UID_PER_REQUEST * N_UID_REQUESTS\n",
    "            )\n",
    "        ).reshape(N_UID_PER_REQUEST, N_UID_REQUESTS)\n",
    "    )\n",
    "    uids.to_csv(UIDS_FILE, index=False)\n",
    "else:\n",
    "    uids = pd.read_csv(UIDS_FILE)"
   ]
  },
  {
   "cell_type": "markdown",
   "metadata": {},
   "source": [
    "### Token load\n",
    "\n",
    "To query Twitter's API, we need a bearer token which we load."
   ]
  },
  {
   "cell_type": "code",
   "execution_count": 5,
   "metadata": {},
   "outputs": [],
   "source": [
    "# Load bearer token\n",
    "with open(BEARER_TOKEN, \"r\") as file:\n",
    "    token = file.readline().strip(\"\\n\")\n",
    "\n",
    "# Define authentication header\n",
    "headers = {\"Authorization\": \"Bearer \" + token}"
   ]
  },
  {
   "cell_type": "markdown",
   "metadata": {},
   "source": [
    "### User data collection\n",
    "\n",
    "In this section, we will get user data from Twitter's API.\n",
    "\n",
    "First we define a few helper functions."
   ]
  },
  {
   "cell_type": "code",
   "execution_count": 6,
   "metadata": {},
   "outputs": [],
   "source": [
    "def wait_for_reset(r):\n",
    "    print(\n",
    "        \"Current time: {} (UTC)\".format(datetime.utcnow().strftime(\"%Y-%m-%d %H:%M:%S\"))\n",
    "    )\n",
    "    # Get reset time (Unix format)\n",
    "    ts = int(r.headers[\"x-rate-limit-reset\"])\n",
    "    ts_str = datetime.fromtimestamp(ts).strftime(\"%Y-%m-%d %H:%M:%S\")\n",
    "    # Compute difference between current time and reset time\n",
    "    sleep_time = (datetime.fromtimestamp(ts) - datetime.utcnow()).total_seconds()\n",
    "    if sleep_time > 0:\n",
    "        print(\"Waiting until {} (UTC) for the rate limit to reset.\".format(ts_str))\n",
    "        time.sleep(sleep_time)\n",
    "    else:\n",
    "        print(\"Reset time was: {} (UTC)\".format(ts_str))\n",
    "    print(\"Resuming user data collection\")\n",
    "\n",
    "\n",
    "def get_user_data(req, headers=headers, wait=True):\n",
    "    # Query the user data\n",
    "    r = requests.get(req, headers=headers)\n",
    "    if wait & (int(r.headers[\"x-rate-limit-remaining\"]) == 0):\n",
    "        wait_for_reset(r)\n",
    "\n",
    "        # Query the user data\n",
    "        r = requests.get(req, headers=headers)\n",
    "\n",
    "    return r\n",
    "\n",
    "\n",
    "def get_user_data_df(r):\n",
    "    df = pd.DataFrame(\n",
    "        r.json()[\"data\"],\n",
    "        columns=[\n",
    "            \"id\",\n",
    "            \"username\",\n",
    "            \"name\",\n",
    "            \"protected\",\n",
    "            \"withheld\",\n",
    "            \"verified\",\n",
    "            \"created_at\",\n",
    "            \"location\",\n",
    "            \"public_metrics\",\n",
    "            \"description\",\n",
    "            \"url\",\n",
    "            \"entities\",\n",
    "            \"pinned_tweet_id\",\n",
    "        ],\n",
    "        # Replace NaNs by empty strings to facilitate pre-processing\n",
    "    ).fillna(\"\")\n",
    "    return df"
   ]
  },
  {
   "cell_type": "markdown",
   "metadata": {},
   "source": [
    "Now, let's query the API."
   ]
  },
  {
   "cell_type": "code",
   "execution_count": 7,
   "metadata": {},
   "outputs": [],
   "source": [
    "# Get user data\n",
    "if COLLECT_USER_DATA:\n",
    "    for i in trange(N_UID_PER_REQUEST // 100):\n",
    "        # Get 100 UserIDs (limit per request as defined by Twitter)\n",
    "        users = uids.values[i * 100 : (i + 1) * 100, REQUEST_NUMBER]\n",
    "        # Define the request URL\n",
    "        req = (\n",
    "            API_USERS_ENDPOINT\n",
    "            + \",\".join([str(user) for user in users])\n",
    "            + \"&\"\n",
    "            + API_USER_FIELDS\n",
    "            + \"&\"\n",
    "            + API_TWEET_FIELDS\n",
    "        )\n",
    "\n",
    "        # Create the dataframe on the first iteration\n",
    "        if i == 0:\n",
    "            # Query the user data\n",
    "            r = get_user_data(req)\n",
    "\n",
    "            # If the rate limit is not maximal, then wait for the reset to occur\n",
    "            # (max 15 minutes)\n",
    "            if int(r.headers[\"x-rate-limit-remaining\"]) != 299:\n",
    "                wait_for_reset(r)\n",
    "\n",
    "                # Query the user data\n",
    "                r = get_user_data(req)\n",
    "\n",
    "            raw_user_data = get_user_data_df(r)\n",
    "        # Append to existing dataframe on other iterations\n",
    "        # but do not wait for reset for the last iteration\n",
    "        elif i == 299:\n",
    "            # Query the user data\n",
    "            r = get_user_data(req, wait=False)\n",
    "            # Append new data to existing dataframe\n",
    "            raw_user_data = raw_user_data.append(get_user_data_df(r))\n",
    "        else:\n",
    "            # Query the user data\n",
    "            r = get_user_data(req)\n",
    "            # Append new data to existing dataframe\n",
    "            raw_user_data = raw_user_data.append(get_user_data_df(r))"
   ]
  },
  {
   "cell_type": "markdown",
   "metadata": {},
   "source": [
    "There are a few important data points we will need to the next parts so we extract them here along with any others they are grouped with."
   ]
  },
  {
   "cell_type": "code",
   "execution_count": 8,
   "metadata": {},
   "outputs": [],
   "source": [
    "# Preprocess the data\n",
    "\n",
    "\n",
    "def get_key_val(x, key):\n",
    "    \"\"\"Get dictionary value from key if it exists, otherwise return an empty string.\"\"\"\n",
    "    if key in x:\n",
    "        return x[key]\n",
    "    else:\n",
    "        return \"\"\n",
    "\n",
    "\n",
    "def get_public_metrics(df):\n",
    "    \"\"\"Extract the data from the public_metrics column\"\"\"\n",
    "    for metric in [\"followers_count\", \"following_count\", \"tweet_count\", \"listed_count\"]:\n",
    "        df[metric] = df.public_metrics.apply(lambda x: get_key_val(x, metric))\n",
    "    df.pop(\"public_metrics\")\n",
    "    return df\n",
    "\n",
    "\n",
    "def get_entities(df):\n",
    "    \"\"\"Extract the data from the entity column\"\"\"\n",
    "    for entity in [\"url\", \"description\"]:\n",
    "        df[\"entities_\" + entity] = df.entities.apply(lambda x: get_key_val(x, entity))\n",
    "    df.pop(\"entities\")\n",
    "    return df\n",
    "\n",
    "\n",
    "if COLLECT_USER_DATA:\n",
    "    raw_user_data = get_public_metrics(raw_user_data)\n",
    "    raw_user_data = get_entities(raw_user_data)\n",
    "    raw_user_data = raw_user_data.astype(\n",
    "        {\"id\": int, \"protected\": bool, \"verified\": bool}\n",
    "    )\n",
    "    print(\"Number of valid users: {:,}\".format(raw_user_data.shape[0]))\n",
    "    raw_user_data"
   ]
  },
  {
   "cell_type": "markdown",
   "metadata": {},
   "source": [
    "We need all of the user data available for the next parts, so we append the generated data (if any) to pre-existing user data and we save the data frame."
   ]
  },
  {
   "cell_type": "code",
   "execution_count": 9,
   "metadata": {},
   "outputs": [
    {
     "name": "stdout",
     "output_type": "stream",
     "text": [
      "Total number of valid users: 33,520\n"
     ]
    }
   ],
   "source": [
    "# Load user data if it exists\n",
    "if os.path.isfile(USERS_FILE) and not FIRST_RUN:\n",
    "    user_data = pd.read_csv(\n",
    "        USERS_FILE,\n",
    "        dtype={\"id\": int, \"protected\": bool, \"verified\": bool},\n",
    "        lineterminator=\"\\n\",\n",
    "    )\n",
    "    if COLLECT_USER_DATA:\n",
    "        user_data = user_data.append(raw_user_data)\n",
    "else:\n",
    "    user_data = raw_user_data\n",
    "\n",
    "if COLLECT_USER_DATA:\n",
    "    # Save data to disk\n",
    "    user_data.to_csv(USERS_FILE, index=False)\n",
    "\n",
    "# Print statistics\n",
    "print(\"Total number of valid users: {:,}\".format(user_data.shape[0]))"
   ]
  },
  {
   "cell_type": "markdown",
   "metadata": {},
   "source": [
    "### User subset definition\n",
    "\n",
    "We define and save groups of users to facilitate data manipulation later on."
   ]
  },
  {
   "cell_type": "code",
   "execution_count": 10,
   "metadata": {},
   "outputs": [],
   "source": [
    "# Extract user subsets\n",
    "if CREATE_USER_SUBSETS:\n",
    "    # Public users\n",
    "    public_users = user_data[~user_data.protected].copy()\n",
    "    # Public users with tweets\n",
    "    # Tweet count includes retweets\n",
    "    public_users_w_tweets = user_data[\n",
    "        ~user_data.protected & (user_data.tweet_count > 0)\n",
    "    ].copy()\n",
    "    # Public users with followers\n",
    "    public_users_w_followers = user_data[\n",
    "        ~user_data.protected & (user_data.followers_count > 0)\n",
    "    ].copy()\n",
    "    # Public users with friends\n",
    "    public_users_w_friends = user_data[\n",
    "        ~user_data.protected & (user_data.following_count > 0)\n",
    "    ].copy()\n",
    "\n",
    "    print(\"Number of public users: {:,}\".format(public_users.shape[0]))\n",
    "    print(\n",
    "        \"Number of public users with tweets: {:,}\".format(\n",
    "            public_users_w_tweets.shape[0]\n",
    "        )\n",
    "    )\n",
    "    print(\n",
    "        \"Number of public users with followers: {:,}\".format(\n",
    "            public_users_w_followers.shape[0]\n",
    "        )\n",
    "    )\n",
    "    print(\n",
    "        \"Number of public users with friends: {:,}\".format(\n",
    "            public_users_w_friends.shape[0]\n",
    "        )\n",
    "    )\n",
    "\n",
    "    public_users.to_csv(PUBLIC_USERS_FILE, index=False)\n",
    "    public_users_w_tweets.to_csv(PUBLIC_USERS_W_TWEETS_FILE, index=False)\n",
    "    public_users_w_followers.to_csv(PUBLIC_USERS_W_FOLLOWERS_FILE, index=False)\n",
    "    public_users_w_friends.to_csv(PUBLIC_USERS_W_FRIENDS_FILE, index=False)\n",
    "\n",
    "else:\n",
    "    public_users = pd.read_csv(\n",
    "        PUBLIC_USERS_FILE,\n",
    "        dtype={\"id\": int, \"protected\": bool, \"verified\": bool},\n",
    "        lineterminator=\"\\n\",\n",
    "    )\n",
    "    public_users_w_tweets = pd.read_csv(\n",
    "        PUBLIC_USERS_W_TWEETS_FILE,\n",
    "        dtype={\"id\": int, \"protected\": bool, \"verified\": bool},\n",
    "        lineterminator=\"\\n\",\n",
    "    )\n",
    "    public_users_w_followers = pd.read_csv(\n",
    "        PUBLIC_USERS_W_FOLLOWERS_FILE,\n",
    "        dtype={\"id\": int, \"protected\": bool, \"verified\": bool},\n",
    "        lineterminator=\"\\n\",\n",
    "    )\n",
    "    public_users_w_friends = pd.read_csv(\n",
    "        PUBLIC_USERS_W_FRIENDS_FILE,\n",
    "        dtype={\"id\": int, \"protected\": bool, \"verified\": bool},\n",
    "        lineterminator=\"\\n\",\n",
    "    )"
   ]
  },
  {
   "cell_type": "markdown",
   "metadata": {},
   "source": [
    "### Data pull status generation\n",
    "\n",
    "As there are many queries to make, we create here a dataframe to be able to keep track of what data was already pulled and what data still needs to be pulled."
   ]
  },
  {
   "cell_type": "code",
   "execution_count": 11,
   "metadata": {},
   "outputs": [],
   "source": [
    "# Create pull status dataframe\n",
    "if CREATE_DATA_PULL_STATUS:\n",
    "    # Use public metrics to define limits\n",
    "    user_data_pull_status = public_users[\n",
    "        [\"id\", \"followers_count\", \"following_count\", \"tweet_count\"]\n",
    "    ].copy()\n",
    "\n",
    "    # Define parameters for API queries\n",
    "    user_data_pull_status[\"timeline_lowest_id\"] = 0\n",
    "    user_data_pull_status[\"timeline_tweets_pulled\"] = 0\n",
    "\n",
    "    user_data_pull_status[\"followers_cursor\"] = -1\n",
    "    user_data_pull_status[\"followers_pulled\"] = 0\n",
    "\n",
    "    user_data_pull_status[\"following_cursor\"] = -1\n",
    "    user_data_pull_status[\"following_pulled\"] = 0\n",
    "\n",
    "    # Change column order for easier visualization\n",
    "    user_data_pull_status = user_data_pull_status[\n",
    "        [\n",
    "            \"id\",\n",
    "            \"timeline_lowest_id\",\n",
    "            \"timeline_tweets_pulled\",\n",
    "            \"tweet_count\",\n",
    "            \"followers_cursor\",\n",
    "            \"followers_pulled\",\n",
    "            \"followers_count\",\n",
    "            \"following_cursor\",\n",
    "            \"following_pulled\",\n",
    "            \"following_count\",\n",
    "        ]\n",
    "    ]\n",
    "\n",
    "    # Set id column to index\n",
    "    user_data_pull_status = user_data_pull_status.set_index(\"id\")\n",
    "\n",
    "else:\n",
    "    user_data_pull_status = pd.read_csv(\n",
    "        PUBLIC_USERS_PULL_STATUS_FILE,\n",
    "        dtype=int,\n",
    "        index_col=\"id\",\n",
    "        lineterminator=\"\\n\",\n",
    "    )"
   ]
  },
  {
   "cell_type": "markdown",
   "metadata": {},
   "source": [
    "### User timeline collection\n",
    "\n",
    "As part of our analysis, we need to collect users' timelines. This is what we do here.\n",
    "\n",
    "First we define a few helper functions whose names are pretty explicit, then we move on to actually query the data before saving it along with the data pull status."
   ]
  },
  {
   "cell_type": "code",
   "execution_count": 12,
   "metadata": {},
   "outputs": [],
   "source": [
    "def get_user_timeline_rate_limit():\n",
    "    r = requests.get(API_V1_RATE_LIMITS, headers=headers)\n",
    "    remaining = r.json()[\"resources\"][\"statuses\"][\"/statuses/user_timeline\"][\n",
    "        \"remaining\"\n",
    "    ]\n",
    "    # Get Unix timestamp\n",
    "    reset_ts = r.json()[\"resources\"][\"statuses\"][\"/statuses/user_timeline\"][\"reset\"]\n",
    "    # Convert to string\n",
    "    reset_time = datetime.fromtimestamp(reset_ts).strftime(\"%Y-%m-%d %H:%M:%S\")\n",
    "    return remaining, reset_time\n",
    "\n",
    "\n",
    "def get_initial_timeline_df():\n",
    "    return pd.DataFrame(\n",
    "        columns=[\n",
    "            \"user_id\",\n",
    "            \"user\",\n",
    "            \"id\",\n",
    "            \"created_at\",\n",
    "            \"text\",\n",
    "            \"in_reply_to_status_id\",\n",
    "            \"in_reply_to_user_id\",\n",
    "            \"source\",\n",
    "            \"truncated\",\n",
    "            \"coordinates\",\n",
    "            \"place\",\n",
    "            \"is_quote_status\",\n",
    "            \"quoted_status_id\",\n",
    "            \"quoted_status\",\n",
    "            \"quote_count\",\n",
    "            \"retweeted_status\",\n",
    "            \"retweet_count\",\n",
    "            \"favorite_count\",\n",
    "            \"entities\",\n",
    "            \"extended_entities\",\n",
    "            \"possibly_sensitive\",\n",
    "            \"lang\",\n",
    "        ]\n",
    "    )\n",
    "\n",
    "\n",
    "def get_user_timeline_df(r):\n",
    "    df = pd.DataFrame(\n",
    "        r.json(),\n",
    "        columns=[\n",
    "            \"user_id\",\n",
    "            \"user\",\n",
    "            \"id\",\n",
    "            \"created_at\",\n",
    "            \"text\",\n",
    "            \"in_reply_to_status_id\",\n",
    "            \"in_reply_to_user_id\",\n",
    "            \"source\",\n",
    "            \"truncated\",\n",
    "            \"coordinates\",\n",
    "            \"place\",\n",
    "            \"is_quote_status\",\n",
    "            \"quoted_status_id\",\n",
    "            \"quoted_status\",\n",
    "            \"quote_count\",\n",
    "            \"retweeted_status\",\n",
    "            \"retweet_count\",\n",
    "            \"favorite_count\",\n",
    "            \"entities\",\n",
    "            \"extended_entities\",\n",
    "            \"possibly_sensitive\",\n",
    "            \"lang\",\n",
    "        ],\n",
    "        # Replace NaNs by empty strings to facilitate pre-processing\n",
    "    ).fillna(\"\")\n",
    "    # Fill in user_id with tweet UserID\n",
    "    df.user_id = df.user.apply(lambda x: x[\"id\"])\n",
    "    return df\n",
    "\n",
    "\n",
    "def get_user_timeline(query_n, user_id, max_id, count):\n",
    "    req = API_USER_TIMELINE_ENDPOINT\n",
    "    params = {\n",
    "        \"user_id\": str(user_id),\n",
    "        \"count\": str(count),\n",
    "        \"include_rts\": \"1\",\n",
    "    }\n",
    "    if max_id > 0:\n",
    "        params.update({\"max_id\": str(max_id - 1)})\n",
    "\n",
    "    r = requests.get(req, headers=headers, params=params)\n",
    "    df = get_user_timeline_df(r)\n",
    "\n",
    "    n_tweets_pulled = len(r.json())\n",
    "    if n_tweets_pulled < count:\n",
    "        print(r.url)\n",
    "        print(\n",
    "            \"Query {:,} -- \".format(query_n + 1).ljust(15)\n",
    "            + \"User {}: got {:,} tweets instead of {:,}.\".format(\n",
    "                user_id, n_tweets_pulled, count\n",
    "            )\n",
    "        )\n",
    "        lowest_id = -1\n",
    "    if df.shape[0] > 0:\n",
    "        lowest_id = int(df.id.min())\n",
    "\n",
    "    return df, lowest_id, n_tweets_pulled"
   ]
  },
  {
   "cell_type": "markdown",
   "metadata": {},
   "source": [
    "Having defined our helper functions, we now create an empty dataframe for our user timeline data and query the API for as much data as possible until we hit the rate limit (similar sections are run multiple times (days...) to query all of the necessary data)."
   ]
  },
  {
   "cell_type": "code",
   "execution_count": 13,
   "metadata": {
    "scrolled": true
   },
   "outputs": [],
   "source": [
    "tmp_user_timeline_data = get_initial_timeline_df()\n",
    "\n",
    "if PULL_NEW_TIMELINE_DATA:\n",
    "\n",
    "    # Get the number of available queries and rate limit reset time\n",
    "    query_quota, reset_time = get_user_timeline_rate_limit()\n",
    "\n",
    "    # Get users with tweets left to pull\n",
    "    user_timelines_to_pull = user_data_pull_status[\n",
    "        (user_data_pull_status.tweet_count > 0)\n",
    "        & (\n",
    "            user_data_pull_status.timeline_tweets_pulled\n",
    "            < user_data_pull_status.tweet_count\n",
    "        )\n",
    "    ]\n",
    "\n",
    "    n_queries = min(query_quota, user_timelines_to_pull.shape[0])\n",
    "    print(\"Executing {:,} queries.\".format(n_queries))\n",
    "    for query_n in trange(n_queries):\n",
    "\n",
    "        # Get query parameters\n",
    "        user_id = user_timelines_to_pull.index[query_n]\n",
    "        max_id = user_timelines_to_pull.loc[user_id, \"timeline_lowest_id\"]\n",
    "        # A 200-tweet limit is set by Twitter per request\n",
    "        count = min(\n",
    "            user_timelines_to_pull.loc[user_id, \"tweet_count\"]\n",
    "            - user_timelines_to_pull.loc[user_id, \"timeline_tweets_pulled\"],\n",
    "            200,\n",
    "        )\n",
    "\n",
    "        # Get user timeline data and statistics\n",
    "        raw_user_timeline_data, lowest_id, n_tweets_pulled = get_user_timeline(\n",
    "            query_n, user_id, max_id, count\n",
    "        )\n",
    "\n",
    "        # Append to existing user timeline data\n",
    "        tmp_user_timeline_data = tmp_user_timeline_data.append(raw_user_timeline_data)\n",
    "\n",
    "        # Update pull status\n",
    "        user_data_pull_status.loc[user_id, \"timeline_lowest_id\"] = lowest_id\n",
    "        if user_timelines_to_pull.loc[user_id, \"timeline_tweets_pulled\"] == 0:\n",
    "            user_data_pull_status.loc[user_id, \"timeline_tweets_pulled\"] = count\n",
    "        else:\n",
    "            user_data_pull_status.loc[user_id, \"timeline_tweets_pulled\"] += count\n",
    "\n",
    "    print(\"Next reset time: {} (UTC)\".format(reset_time))"
   ]
  },
  {
   "cell_type": "markdown",
   "metadata": {},
   "source": [
    "Now we append the temporary dataframe to our dataset."
   ]
  },
  {
   "cell_type": "code",
   "execution_count": 14,
   "metadata": {},
   "outputs": [],
   "source": [
    "# # Define user timelines dataframe\n",
    "# if os.path.isfile(PUBLIC_USERS_TIMELINES_FILE) and not CREATE_DATA_PULL_STATUS:\n",
    "#     user_timeline_data = pd.read_csv(\n",
    "#         PUBLIC_USERS_TIMELINES_FILE,\n",
    "#         dtype={\"coordinates\": \"object\", \"place\": \"object\", \"quoted_status\": \"object\"},\n",
    "#         lineterminator=\"\\n\",\n",
    "#     )\n",
    "#     user_timeline_data = user_timeline_data.append(tmp_user_timeline_data)\n",
    "# else:\n",
    "#     user_timeline_data = tmp_user_timeline_data"
   ]
  },
  {
   "cell_type": "markdown",
   "metadata": {},
   "source": [
    "We are interested in obtaining some statistics on the pulled data.\n",
    "\n",
    "For consistency, we check whether the number of collected tweets is unique. As a measure of progress in our data collection efforts, we also report how many unique user timelines have been queried. As we cycle through users however, we will have queried parts of timelines for all users before we have queried all tweets from their timelines."
   ]
  },
  {
   "cell_type": "code",
   "execution_count": 15,
   "metadata": {},
   "outputs": [],
   "source": [
    "# if PULL_NEW_TIMELINE_DATA:\n",
    "#     print(\n",
    "#         \"Number of collected tweets: {:,} ({:,} unique) out of {:,}.\\nNumber of unique users: {:,} (out of {:,}).\".format(\n",
    "#             user_timeline_data.shape[0],\n",
    "#             len(np.unique(user_timeline_data.id.values)),\n",
    "#             np.sum(user_data_pull_status.tweet_count.values),\n",
    "#             len(np.unique(user_timeline_data.user_id.values)),\n",
    "#             public_users_w_tweets.shape[0],\n",
    "#         )\n",
    "#     )"
   ]
  },
  {
   "cell_type": "markdown",
   "metadata": {},
   "source": [
    "To be able to use and share this data, we save it to disk."
   ]
  },
  {
   "cell_type": "code",
   "execution_count": 16,
   "metadata": {},
   "outputs": [],
   "source": [
    "# if SAVE_PULLED_DATA:\n",
    "#     # Save data to disk\n",
    "#     user_timeline_data.to_csv(PUBLIC_USERS_TIMELINES_FILE, index=False)\n",
    "#     user_data_pull_status.to_csv(PUBLIC_USERS_PULL_STATUS_FILE)"
   ]
  },
  {
   "cell_type": "markdown",
   "metadata": {},
   "source": [
    "### Follower & friends IDs collection\n",
    "\n",
    "To build our ego network, we need to collect users' followers' & friends' IDs.\n",
    "\n",
    "First we define a few helper functions, then we move on to actually query the data before saving it along with the data pull status.\n",
    "\n",
    "Functions to query rate limits."
   ]
  },
  {
   "cell_type": "code",
   "execution_count": 17,
   "metadata": {},
   "outputs": [],
   "source": [
    "def get_followers_ids_rate_limit():\n",
    "    r = requests.get(API_V1_RATE_LIMITS, headers=headers)\n",
    "    remaining = r.json()[\"resources\"][\"followers\"][\"/followers/ids\"][\"remaining\"]\n",
    "    # Get Unix timestamp\n",
    "    reset_ts = r.json()[\"resources\"][\"followers\"][\"/followers/ids\"][\"reset\"]\n",
    "    # Convert to string\n",
    "    reset_time = datetime.fromtimestamp(reset_ts).strftime(\"%Y-%m-%d %H:%M:%S\")\n",
    "    return remaining, reset_time\n",
    "\n",
    "\n",
    "def get_friends_ids_rate_limit():\n",
    "    r = requests.get(API_V1_RATE_LIMITS, headers=headers)\n",
    "    remaining = r.json()[\"resources\"][\"friends\"][\"/friends/ids\"][\"remaining\"]\n",
    "    # Get Unix timestamp\n",
    "    reset_ts = r.json()[\"resources\"][\"friends\"][\"/friends/ids\"][\"reset\"]\n",
    "    # Convert to string\n",
    "    reset_time = datetime.fromtimestamp(reset_ts).strftime(\"%Y-%m-%d %H:%M:%S\")\n",
    "    return remaining, reset_time"
   ]
  },
  {
   "cell_type": "markdown",
   "metadata": {},
   "source": [
    "Functions to create initial dataframes."
   ]
  },
  {
   "cell_type": "code",
   "execution_count": 18,
   "metadata": {},
   "outputs": [],
   "source": [
    "def get_initial_followers_df():\n",
    "    return pd.DataFrame(\n",
    "        columns=[\n",
    "            \"user_id\",\n",
    "            \"ids\",\n",
    "            \"next_cursor\",\n",
    "        ]\n",
    "    )\n",
    "\n",
    "\n",
    "def get_initial_friends_df():\n",
    "    return pd.DataFrame(\n",
    "        columns=[\n",
    "            \"user_id\",\n",
    "            \"ids\",\n",
    "            \"next_cursor\",\n",
    "        ]\n",
    "    )"
   ]
  },
  {
   "cell_type": "markdown",
   "metadata": {},
   "source": [
    "Functions to get dataframes from request body."
   ]
  },
  {
   "cell_type": "code",
   "execution_count": 19,
   "metadata": {},
   "outputs": [],
   "source": [
    "def get_followers_df(r, user_id):\n",
    "    df = pd.DataFrame(\n",
    "        r.json(),\n",
    "        columns=[\n",
    "            \"user_id\",\n",
    "            \"ids\",\n",
    "            \"next_cursor\",\n",
    "        ],\n",
    "    ).fillna(\"\")\n",
    "    # Fill in user_id\n",
    "    df.user_id = user_id\n",
    "    return df\n",
    "\n",
    "\n",
    "def get_friends_df(r, user_id):\n",
    "    df = pd.DataFrame(\n",
    "        r.json(),\n",
    "        columns=[\n",
    "            \"user_id\",\n",
    "            \"ids\",\n",
    "            \"next_cursor\",\n",
    "        ],\n",
    "    ).fillna(\"\")\n",
    "    # Fill in user_id\n",
    "    df.user_id = user_id\n",
    "    return df"
   ]
  },
  {
   "cell_type": "markdown",
   "metadata": {},
   "source": [
    "Functions to create queries and return dataframes with the data."
   ]
  },
  {
   "cell_type": "code",
   "execution_count": 20,
   "metadata": {},
   "outputs": [],
   "source": [
    "def get_followers(query_n, user_id, cursor, count):\n",
    "    req = API_FOLLOWERS_IDS_ENDPOINT\n",
    "    params = {\n",
    "        \"user_id\": str(user_id),\n",
    "        \"cursor\": str(cursor),\n",
    "        \"count\": str(count),\n",
    "    }\n",
    "\n",
    "    r = requests.get(req, headers=headers, params=params)\n",
    "    df = get_followers_df(r, user_id)\n",
    "\n",
    "    n_followers_pulled = df.shape[0]\n",
    "    if n_followers_pulled < count:\n",
    "        print(r.url)\n",
    "        print(\n",
    "            \"Query {:,} -- \".format(query_n + 1).ljust(15)\n",
    "            + \"User {}: got {:,} followers instead of {:,}.\".format(\n",
    "                user_id, n_followers_pulled, count\n",
    "            )\n",
    "        )\n",
    "        next_cursor = -1\n",
    "    if df.shape[0] > 0:\n",
    "        next_cursor = df.next_cursor[0]\n",
    "\n",
    "    return df, next_cursor\n",
    "\n",
    "\n",
    "def get_friends(query_n, user_id, cursor, count):\n",
    "    req = API_FRIENDS_IDS_ENDPOINT\n",
    "    params = {\n",
    "        \"user_id\": str(user_id),\n",
    "        \"cursor\": str(cursor),\n",
    "        \"count\": str(count),\n",
    "    }\n",
    "\n",
    "    r = requests.get(req, headers=headers, params=params)\n",
    "    df = get_friends_df(r, user_id)\n",
    "\n",
    "    n_friends_pulled = df.shape[0]\n",
    "    if n_friends_pulled < count:\n",
    "        print(r.url)\n",
    "        print(\n",
    "            \"Query {:,} -- \".format(query_n + 1).ljust(15)\n",
    "            + \"User {}: got {:,} friends instead of {:,}.\".format(\n",
    "                user_id, n_friends_pulled, count\n",
    "            )\n",
    "        )\n",
    "        next_cursor = -1\n",
    "    if df.shape[0] > 0:\n",
    "        next_cursor = df.next_cursor[0]\n",
    "\n",
    "    return df, next_cursor"
   ]
  },
  {
   "cell_type": "code",
   "execution_count": 21,
   "metadata": {},
   "outputs": [],
   "source": [
    "# Load or create user followers or friends dataframe\n",
    "def load_user_ff_df(\n",
    "    file,\n",
    "    create_data_status,\n",
    "    init_df_func,\n",
    "):\n",
    "    if os.path.isfile(file) and not create_data_status:\n",
    "        user_ff_data = pd.read_csv(\n",
    "            file,\n",
    "            dtype=int,\n",
    "            lineterminator=\"\\n\",\n",
    "        )\n",
    "    else:\n",
    "        user_ff_data = init_df_func()\n",
    "\n",
    "    return user_ff_data"
   ]
  },
  {
   "cell_type": "markdown",
   "metadata": {},
   "source": [
    "Functions to run the pull sequence."
   ]
  },
  {
   "cell_type": "code",
   "execution_count": 22,
   "metadata": {},
   "outputs": [],
   "source": [
    "def pull_new_follower_data(user_data_pull_status, user_followers_data):\n",
    "\n",
    "    # Get the number of available queries and rate limit reset time\n",
    "    query_quota, reset_time = get_followers_ids_rate_limit()\n",
    "\n",
    "    # Get users with tweets left to pull\n",
    "    user_followers_to_pull = user_data_pull_status[\n",
    "        (user_data_pull_status.followers_count > 0)\n",
    "        & (\n",
    "            user_data_pull_status.followers_pulled\n",
    "            < user_data_pull_status.followers_count\n",
    "        )\n",
    "    ]\n",
    "\n",
    "    n_queries = min(query_quota, user_followers_to_pull.shape[0])\n",
    "    print(\"Executing {:,} queries for followers.\".format(n_queries))\n",
    "    for query_n in trange(n_queries):\n",
    "\n",
    "        # Get query parameters\n",
    "        user_id = user_followers_to_pull.index[query_n]\n",
    "        cursor = user_followers_to_pull.loc[user_id, \"followers_cursor\"]\n",
    "        # A 5000-UserIDs limit is set by Twitter per request\n",
    "        count = min(\n",
    "            user_followers_to_pull.loc[user_id, \"followers_count\"]\n",
    "            - user_followers_to_pull.loc[user_id, \"followers_pulled\"],\n",
    "            5000,\n",
    "        )\n",
    "\n",
    "        # Get user followers data and statistics\n",
    "        raw_user_followers_data, next_cursor = get_followers(\n",
    "            query_n, user_id, cursor, count\n",
    "        )\n",
    "\n",
    "        # Append to existing user followers data\n",
    "        user_followers_data = user_followers_data.append(raw_user_followers_data)\n",
    "\n",
    "        # Update pull status\n",
    "        user_data_pull_status.loc[user_id, \"followers_cursor\"] = next_cursor\n",
    "        if user_followers_to_pull.loc[user_id, \"followers_pulled\"] == 0:\n",
    "            user_data_pull_status.loc[user_id, \"followers_pulled\"] = count\n",
    "        else:\n",
    "            user_data_pull_status.loc[user_id, \"followers_pulled\"] += count\n",
    "\n",
    "    print(\"Next reset time: {} (UTC)\".format(reset_time))\n",
    "\n",
    "    return user_data_pull_status, user_followers_data, reset_time\n",
    "\n",
    "\n",
    "def pull_new_friend_data(user_data_pull_status, user_friends_data):\n",
    "\n",
    "    # Get the number of available queries and rate limit reset time\n",
    "    query_quota, reset_time = get_friends_ids_rate_limit()\n",
    "\n",
    "    # Get users with tweets left to pull\n",
    "    user_friends_to_pull = user_data_pull_status[\n",
    "        (user_data_pull_status.following_count > 0)\n",
    "        & (\n",
    "            user_data_pull_status.following_pulled\n",
    "            < user_data_pull_status.following_count\n",
    "        )\n",
    "    ]\n",
    "\n",
    "    n_queries = min(query_quota, user_friends_to_pull.shape[0])\n",
    "    print(\"Executing {:,} queries for friends.\".format(n_queries))\n",
    "    for query_n in trange(n_queries):\n",
    "\n",
    "        # Get query parameters\n",
    "        user_id = user_friends_to_pull.index[query_n]\n",
    "        cursor = user_friends_to_pull.loc[user_id, \"following_cursor\"]\n",
    "        # A 5000-UserIDs limit is set by Twitter per request\n",
    "        count = min(\n",
    "            user_friends_to_pull.loc[user_id, \"following_count\"]\n",
    "            - user_friends_to_pull.loc[user_id, \"following_pulled\"],\n",
    "            5000,\n",
    "        )\n",
    "\n",
    "        # Get user friends data and statistics\n",
    "        raw_user_friends_data, next_cursor = get_friends(\n",
    "            query_n, user_id, cursor, count\n",
    "        )\n",
    "\n",
    "        # Append to existing user friends data\n",
    "        user_friends_data = user_friends_data.append(raw_user_friends_data)\n",
    "\n",
    "        # Update pull status\n",
    "        user_data_pull_status.loc[user_id, \"following_cursor\"] = next_cursor\n",
    "        if user_friends_to_pull.loc[user_id, \"following_pulled\"] == 0:\n",
    "            user_data_pull_status.loc[user_id, \"following_pulled\"] = count\n",
    "        else:\n",
    "            user_data_pull_status.loc[user_id, \"following_pulled\"] += count\n",
    "\n",
    "    print(\"Next reset time: {} (UTC)\".format(reset_time))\n",
    "\n",
    "    return user_data_pull_status, user_friends_data, reset_time"
   ]
  },
  {
   "cell_type": "markdown",
   "metadata": {},
   "source": [
    "Now that we have defined our helper functions, we can query the data, print out some statistics and save it."
   ]
  },
  {
   "cell_type": "code",
   "execution_count": 23,
   "metadata": {
    "scrolled": true
   },
   "outputs": [
    {
     "name": "stdout",
     "output_type": "stream",
     "text": [
      "Executing 15 queries for followers.\n"
     ]
    },
    {
     "data": {
      "application/vnd.jupyter.widget-view+json": {
       "model_id": "6516905edb95496e8888566999988a85",
       "version_major": 2,
       "version_minor": 0
      },
      "text/plain": [
       "HBox(children=(HTML(value=''), FloatProgress(value=0.0, max=15.0), HTML(value='')))"
      ]
     },
     "metadata": {},
     "output_type": "display_data"
    },
    {
     "name": "stdout",
     "output_type": "stream",
     "text": [
      "https://api.twitter.com/1.1/followers/ids.json?user_id=2937707710&cursor=-1&count=697\n",
      "Query 1 --     User 2937707710: got 693 followers instead of 697.\n",
      "\n",
      "Next reset time: 2020-12-12 15:54:21 (UTC)\n",
      "Executing 15 queries for friends.\n"
     ]
    },
    {
     "data": {
      "application/vnd.jupyter.widget-view+json": {
       "model_id": "21841bd91b164559aa938be224820ff0",
       "version_major": 2,
       "version_minor": 0
      },
      "text/plain": [
       "HBox(children=(HTML(value=''), FloatProgress(value=0.0, max=15.0), HTML(value='')))"
      ]
     },
     "metadata": {},
     "output_type": "display_data"
    },
    {
     "name": "stdout",
     "output_type": "stream",
     "text": [
      "https://api.twitter.com/1.1/friends/ids.json?user_id=158416486&cursor=-1&count=251\n",
      "Query 9 --     User 158416486: got 250 friends instead of 251.\n",
      "\n",
      "Next reset time: 2020-12-12 15:54:25 (UTC)\n",
      "Data saved!\n",
      "Number of collected followers: 260,369 (out of 1,662,736).\n",
      "Number of unique users: 3,291 (out of 18,689).\n",
      "Number of collected friends: 351,558 (out of 2,208,697).\n",
      "Number of unique users: 3,291 (out of 22,099).\n",
      "Waiting for 894 seconds to continue (until 2020-12-12 15:54:25 (UTC)).\n",
      "\n",
      "Executing 15 queries for followers.\n"
     ]
    },
    {
     "data": {
      "application/vnd.jupyter.widget-view+json": {
       "model_id": "d1875fa8db0a443899692ec3742b353a",
       "version_major": 2,
       "version_minor": 0
      },
      "text/plain": [
       "HBox(children=(HTML(value=''), FloatProgress(value=0.0, max=15.0), HTML(value='')))"
      ]
     },
     "metadata": {},
     "output_type": "display_data"
    },
    {
     "name": "stdout",
     "output_type": "stream",
     "text": [
      "https://api.twitter.com/1.1/followers/ids.json?user_id=109168983&cursor=-1&count=653\n",
      "Query 1 --     User 109168983: got 652 followers instead of 653.\n",
      "\n",
      "Next reset time: 2020-12-12 16:09:25 (UTC)\n",
      "Executing 15 queries for friends.\n"
     ]
    },
    {
     "data": {
      "application/vnd.jupyter.widget-view+json": {
       "model_id": "084c9158f8d24049bb772ba1ada76ffd",
       "version_major": 2,
       "version_minor": 0
      },
      "text/plain": [
       "HBox(children=(HTML(value=''), FloatProgress(value=0.0, max=15.0), HTML(value='')))"
      ]
     },
     "metadata": {},
     "output_type": "display_data"
    },
    {
     "name": "stdout",
     "output_type": "stream",
     "text": [
      "\n",
      "Next reset time: 2020-12-12 16:09:29 (UTC)\n",
      "Data saved!\n",
      "Number of collected followers: 261,491 (out of 1,662,736).\n",
      "Number of unique users: 3,306 (out of 18,689).\n",
      "Number of collected friends: 352,646 (out of 2,208,697).\n",
      "Number of unique users: 3,306 (out of 22,099).\n",
      "Waiting for 894 seconds to continue (until 2020-12-12 16:09:29 (UTC)).\n",
      "\n",
      "Executing 15 queries for followers.\n"
     ]
    },
    {
     "data": {
      "application/vnd.jupyter.widget-view+json": {
       "model_id": "6e23521c7e534cd78a4c10e7d7a16711",
       "version_major": 2,
       "version_minor": 0
      },
      "text/plain": [
       "HBox(children=(HTML(value=''), FloatProgress(value=0.0, max=15.0), HTML(value='')))"
      ]
     },
     "metadata": {},
     "output_type": "display_data"
    },
    {
     "name": "stdout",
     "output_type": "stream",
     "text": [
      "https://api.twitter.com/1.1/followers/ids.json?user_id=2938715356&cursor=-1&count=41\n",
      "Query 5 --     User 2938715356: got 40 followers instead of 41.\n",
      "https://api.twitter.com/1.1/followers/ids.json?user_id=2777340436&cursor=-1&count=41\n",
      "Query 10 --    User 2777340436: got 40 followers instead of 41.\n",
      "\n",
      "Next reset time: 2020-12-12 16:24:29 (UTC)\n",
      "Executing 15 queries for friends.\n"
     ]
    },
    {
     "data": {
      "application/vnd.jupyter.widget-view+json": {
       "model_id": "e5df0f3ae1c44324a10269c700ca1788",
       "version_major": 2,
       "version_minor": 0
      },
      "text/plain": [
       "HBox(children=(HTML(value=''), FloatProgress(value=0.0, max=15.0), HTML(value='')))"
      ]
     },
     "metadata": {},
     "output_type": "display_data"
    },
    {
     "name": "stdout",
     "output_type": "stream",
     "text": [
      "\n",
      "Next reset time: 2020-12-12 16:24:33 (UTC)\n",
      "Data saved!\n",
      "Number of collected followers: 262,138 (out of 1,662,736).\n",
      "Number of unique users: 3,321 (out of 18,689).\n",
      "Number of collected friends: 354,708 (out of 2,208,697).\n",
      "Number of unique users: 3,321 (out of 22,099).\n",
      "Waiting for 895 seconds to continue (until 2020-12-12 16:24:33 (UTC)).\n",
      "\n",
      "Executing 15 queries for followers.\n"
     ]
    },
    {
     "data": {
      "application/vnd.jupyter.widget-view+json": {
       "model_id": "a14e612fc5134dfaa274bb6a0137a44e",
       "version_major": 2,
       "version_minor": 0
      },
      "text/plain": [
       "HBox(children=(HTML(value=''), FloatProgress(value=0.0, max=15.0), HTML(value='')))"
      ]
     },
     "metadata": {},
     "output_type": "display_data"
    },
    {
     "name": "stdout",
     "output_type": "stream",
     "text": [
      "\n",
      "Next reset time: 2020-12-12 16:39:33 (UTC)\n",
      "Executing 15 queries for friends.\n"
     ]
    },
    {
     "data": {
      "application/vnd.jupyter.widget-view+json": {
       "model_id": "87900aeb9e084007baa3d1760863d23b",
       "version_major": 2,
       "version_minor": 0
      },
      "text/plain": [
       "HBox(children=(HTML(value=''), FloatProgress(value=0.0, max=15.0), HTML(value='')))"
      ]
     },
     "metadata": {},
     "output_type": "display_data"
    },
    {
     "name": "stdout",
     "output_type": "stream",
     "text": [
      "\n",
      "Next reset time: 2020-12-12 16:39:37 (UTC)\n",
      "Data saved!\n",
      "Number of collected followers: 262,808 (out of 1,662,736).\n",
      "Number of unique users: 3,336 (out of 18,689).\n",
      "Number of collected friends: 356,235 (out of 2,208,697).\n",
      "Number of unique users: 3,336 (out of 22,099).\n",
      "Waiting for 895 seconds to continue (until 2020-12-12 16:39:37 (UTC)).\n",
      "\n",
      "Executing 15 queries for followers.\n"
     ]
    },
    {
     "data": {
      "application/vnd.jupyter.widget-view+json": {
       "model_id": "ae98eaa482014f1a8080c4c7d4451afb",
       "version_major": 2,
       "version_minor": 0
      },
      "text/plain": [
       "HBox(children=(HTML(value=''), FloatProgress(value=0.0, max=15.0), HTML(value='')))"
      ]
     },
     "metadata": {},
     "output_type": "display_data"
    },
    {
     "name": "stdout",
     "output_type": "stream",
     "text": [
      "https://api.twitter.com/1.1/followers/ids.json?user_id=2799953977&cursor=-1&count=227\n",
      "Query 11 --    User 2799953977: got 226 followers instead of 227.\n",
      "\n",
      "Next reset time: 2020-12-12 16:54:38 (UTC)\n",
      "Executing 15 queries for friends.\n"
     ]
    },
    {
     "data": {
      "application/vnd.jupyter.widget-view+json": {
       "model_id": "5b0711e1891f4d0285bcaaad063fd8fb",
       "version_major": 2,
       "version_minor": 0
      },
      "text/plain": [
       "HBox(children=(HTML(value=''), FloatProgress(value=0.0, max=15.0), HTML(value='')))"
      ]
     },
     "metadata": {},
     "output_type": "display_data"
    },
    {
     "name": "stdout",
     "output_type": "stream",
     "text": [
      "\n",
      "Next reset time: 2020-12-12 16:54:42 (UTC)\n",
      "Data saved!\n",
      "Number of collected followers: 263,634 (out of 1,662,736).\n",
      "Number of unique users: 3,351 (out of 18,689).\n",
      "Number of collected friends: 356,629 (out of 2,208,697).\n",
      "Number of unique users: 3,351 (out of 22,099).\n",
      "Waiting for 895 seconds to continue (until 2020-12-12 16:54:42 (UTC)).\n",
      "\n",
      "Executing 15 queries for followers.\n"
     ]
    },
    {
     "data": {
      "application/vnd.jupyter.widget-view+json": {
       "model_id": "217c0a0f9749412caf58df6fe5f5cdd3",
       "version_major": 2,
       "version_minor": 0
      },
      "text/plain": [
       "HBox(children=(HTML(value=''), FloatProgress(value=0.0, max=15.0), HTML(value='')))"
      ]
     },
     "metadata": {},
     "output_type": "display_data"
    },
    {
     "name": "stdout",
     "output_type": "stream",
     "text": [
      "\n",
      "Next reset time: 2020-12-12 17:09:42 (UTC)\n",
      "Executing 15 queries for friends.\n"
     ]
    },
    {
     "data": {
      "application/vnd.jupyter.widget-view+json": {
       "model_id": "a6047dfc9f714a22a4d33fb8a1e65b60",
       "version_major": 2,
       "version_minor": 0
      },
      "text/plain": [
       "HBox(children=(HTML(value=''), FloatProgress(value=0.0, max=15.0), HTML(value='')))"
      ]
     },
     "metadata": {},
     "output_type": "display_data"
    },
    {
     "name": "stdout",
     "output_type": "stream",
     "text": [
      "https://api.twitter.com/1.1/friends/ids.json?user_id=1854687852&cursor=-1&count=352\n",
      "Query 4 --     User 1854687852: got 351 friends instead of 352.\n",
      "\n",
      "Next reset time: 2020-12-12 17:09:46 (UTC)\n",
      "Data saved!\n",
      "Number of collected followers: 263,739 (out of 1,662,736).\n",
      "Number of unique users: 3,366 (out of 18,689).\n",
      "Number of collected friends: 358,292 (out of 2,208,697).\n",
      "Number of unique users: 3,366 (out of 22,099).\n",
      "Waiting for 894 seconds to continue (until 2020-12-12 17:09:46 (UTC)).\n",
      "\n",
      "Executing 15 queries for followers.\n"
     ]
    },
    {
     "data": {
      "application/vnd.jupyter.widget-view+json": {
       "model_id": "588f3530ffa64bc6bfd07f82d3af980f",
       "version_major": 2,
       "version_minor": 0
      },
      "text/plain": [
       "HBox(children=(HTML(value=''), FloatProgress(value=0.0, max=15.0), HTML(value='')))"
      ]
     },
     "metadata": {},
     "output_type": "display_data"
    },
    {
     "name": "stdout",
     "output_type": "stream",
     "text": [
      "https://api.twitter.com/1.1/followers/ids.json?user_id=995825869&cursor=-1&count=16\n",
      "Query 9 --     User 995825869: got 15 followers instead of 16.\n",
      "\n",
      "Next reset time: 2020-12-12 17:24:46 (UTC)\n",
      "Executing 15 queries for friends.\n"
     ]
    },
    {
     "data": {
      "application/vnd.jupyter.widget-view+json": {
       "model_id": "2318eca6fead453b98f4e7d927f2595a",
       "version_major": 2,
       "version_minor": 0
      },
      "text/plain": [
       "HBox(children=(HTML(value=''), FloatProgress(value=0.0, max=15.0), HTML(value='')))"
      ]
     },
     "metadata": {},
     "output_type": "display_data"
    },
    {
     "name": "stdout",
     "output_type": "stream",
     "text": [
      "\n",
      "Next reset time: 2020-12-12 17:24:50 (UTC)\n",
      "Data saved!\n",
      "Number of collected followers: 264,118 (out of 1,662,736).\n",
      "Number of unique users: 3,381 (out of 18,689).\n",
      "Number of collected friends: 358,865 (out of 2,208,697).\n",
      "Number of unique users: 3,381 (out of 22,099).\n",
      "Waiting for 895 seconds to continue (until 2020-12-12 17:24:50 (UTC)).\n",
      "\n",
      "Executing 15 queries for followers.\n"
     ]
    },
    {
     "data": {
      "application/vnd.jupyter.widget-view+json": {
       "model_id": "f78607ad866d46f09bd95815089cc05e",
       "version_major": 2,
       "version_minor": 0
      },
      "text/plain": [
       "HBox(children=(HTML(value=''), FloatProgress(value=0.0, max=15.0), HTML(value='')))"
      ]
     },
     "metadata": {},
     "output_type": "display_data"
    },
    {
     "name": "stdout",
     "output_type": "stream",
     "text": [
      "\n",
      "Next reset time: 2020-12-12 17:39:50 (UTC)\n",
      "Executing 15 queries for friends.\n"
     ]
    },
    {
     "data": {
      "application/vnd.jupyter.widget-view+json": {
       "model_id": "58af6482f7d84844b0ade87ad02774d9",
       "version_major": 2,
       "version_minor": 0
      },
      "text/plain": [
       "HBox(children=(HTML(value=''), FloatProgress(value=0.0, max=15.0), HTML(value='')))"
      ]
     },
     "metadata": {},
     "output_type": "display_data"
    },
    {
     "name": "stdout",
     "output_type": "stream",
     "text": [
      "https://api.twitter.com/1.1/friends/ids.json?user_id=1338033456&cursor=-1&count=245\n",
      "Query 13 --    User 1338033456: got 243 friends instead of 245.\n",
      "\n",
      "Next reset time: 2020-12-12 17:39:54 (UTC)\n",
      "Data saved!\n",
      "Number of collected followers: 265,206 (out of 1,662,736).\n",
      "Number of unique users: 3,396 (out of 18,689).\n",
      "Number of collected friends: 359,860 (out of 2,208,697).\n",
      "Number of unique users: 3,396 (out of 22,099).\n",
      "Waiting for 894 seconds to continue (until 2020-12-12 17:39:54 (UTC)).\n",
      "\n",
      "Executing 15 queries for followers.\n"
     ]
    },
    {
     "data": {
      "application/vnd.jupyter.widget-view+json": {
       "model_id": "ff4846b18ef04d829cf01cd2a3cbc062",
       "version_major": 2,
       "version_minor": 0
      },
      "text/plain": [
       "HBox(children=(HTML(value=''), FloatProgress(value=0.0, max=15.0), HTML(value='')))"
      ]
     },
     "metadata": {},
     "output_type": "display_data"
    },
    {
     "name": "stdout",
     "output_type": "stream",
     "text": [
      "\n",
      "Next reset time: 2020-12-12 17:54:55 (UTC)\n",
      "Executing 15 queries for friends.\n"
     ]
    },
    {
     "data": {
      "application/vnd.jupyter.widget-view+json": {
       "model_id": "b31174fbb0294acdae20da7e7a2af7d8",
       "version_major": 2,
       "version_minor": 0
      },
      "text/plain": [
       "HBox(children=(HTML(value=''), FloatProgress(value=0.0, max=15.0), HTML(value='')))"
      ]
     },
     "metadata": {},
     "output_type": "display_data"
    },
    {
     "name": "stdout",
     "output_type": "stream",
     "text": [
      "https://api.twitter.com/1.1/friends/ids.json?user_id=2723420134&cursor=-1&count=1385\n",
      "Query 6 --     User 2723420134: got 1,384 friends instead of 1,385.\n",
      "https://api.twitter.com/1.1/friends/ids.json?user_id=336763131&cursor=-1&count=1623\n",
      "Query 10 --    User 336763131: got 1,621 friends instead of 1,623.\n",
      "\n",
      "Next reset time: 2020-12-12 17:54:59 (UTC)\n",
      "Data saved!\n",
      "Number of collected followers: 265,596 (out of 1,662,736).\n",
      "Number of unique users: 3,411 (out of 18,689).\n",
      "Number of collected friends: 363,581 (out of 2,208,697).\n",
      "Number of unique users: 3,411 (out of 22,099).\n",
      "Waiting for 894 seconds to continue (until 2020-12-12 17:54:59 (UTC)).\n",
      "\n",
      "Executing 15 queries for followers.\n"
     ]
    },
    {
     "data": {
      "application/vnd.jupyter.widget-view+json": {
       "model_id": "6bfaefba5e374dfab7398fbae2b61c7b",
       "version_major": 2,
       "version_minor": 0
      },
      "text/plain": [
       "HBox(children=(HTML(value=''), FloatProgress(value=0.0, max=15.0), HTML(value='')))"
      ]
     },
     "metadata": {},
     "output_type": "display_data"
    },
    {
     "name": "stdout",
     "output_type": "stream",
     "text": [
      "\n",
      "Next reset time: 2020-12-12 18:09:59 (UTC)\n",
      "Executing 15 queries for friends.\n"
     ]
    },
    {
     "data": {
      "application/vnd.jupyter.widget-view+json": {
       "model_id": "46fe78eac0b14e06ba4f669ecd10e5e9",
       "version_major": 2,
       "version_minor": 0
      },
      "text/plain": [
       "HBox(children=(HTML(value=''), FloatProgress(value=0.0, max=15.0), HTML(value='')))"
      ]
     },
     "metadata": {},
     "output_type": "display_data"
    },
    {
     "name": "stdout",
     "output_type": "stream",
     "text": [
      "https://api.twitter.com/1.1/friends/ids.json?user_id=550406434&cursor=-1&count=1198\n",
      "Query 2 --     User 550406434: got 1,195 friends instead of 1,198.\n",
      "https://api.twitter.com/1.1/friends/ids.json?user_id=2355027054&cursor=-1&count=479\n",
      "Query 9 --     User 2355027054: got 478 friends instead of 479.\n",
      "\n",
      "Next reset time: 2020-12-12 18:10:03 (UTC)\n",
      "Data saved!\n",
      "Number of collected followers: 266,058 (out of 1,662,736).\n",
      "Number of unique users: 3,426 (out of 18,689).\n",
      "Number of collected friends: 365,891 (out of 2,208,697).\n",
      "Number of unique users: 3,426 (out of 22,099).\n",
      "Waiting for 895 seconds to continue (until 2020-12-12 18:10:03 (UTC)).\n",
      "\n",
      "Executing 15 queries for followers.\n"
     ]
    },
    {
     "data": {
      "application/vnd.jupyter.widget-view+json": {
       "model_id": "28bb24d76b1b45be97cf2044b8aa40ba",
       "version_major": 2,
       "version_minor": 0
      },
      "text/plain": [
       "HBox(children=(HTML(value=''), FloatProgress(value=0.0, max=15.0), HTML(value='')))"
      ]
     },
     "metadata": {},
     "output_type": "display_data"
    },
    {
     "name": "stdout",
     "output_type": "stream",
     "text": [
      "\n",
      "Next reset time: 2020-12-12 18:25:03 (UTC)\n",
      "Executing 15 queries for friends.\n"
     ]
    },
    {
     "data": {
      "application/vnd.jupyter.widget-view+json": {
       "model_id": "d03800d92a4544c7bd63216babeb2079",
       "version_major": 2,
       "version_minor": 0
      },
      "text/plain": [
       "HBox(children=(HTML(value=''), FloatProgress(value=0.0, max=15.0), HTML(value='')))"
      ]
     },
     "metadata": {},
     "output_type": "display_data"
    },
    {
     "name": "stdout",
     "output_type": "stream",
     "text": [
      "\n",
      "Next reset time: 2020-12-12 18:25:07 (UTC)\n",
      "Data saved!\n",
      "Number of collected followers: 266,398 (out of 1,662,736).\n",
      "Number of unique users: 3,441 (out of 18,689).\n",
      "Number of collected friends: 366,486 (out of 2,208,697).\n",
      "Number of unique users: 3,441 (out of 22,099).\n",
      "Waiting for 894 seconds to continue (until 2020-12-12 18:25:07 (UTC)).\n",
      "\n",
      "Executing 15 queries for followers.\n"
     ]
    },
    {
     "data": {
      "application/vnd.jupyter.widget-view+json": {
       "model_id": "895a4c6de50b40d1b5629c47b38fc332",
       "version_major": 2,
       "version_minor": 0
      },
      "text/plain": [
       "HBox(children=(HTML(value=''), FloatProgress(value=0.0, max=15.0), HTML(value='')))"
      ]
     },
     "metadata": {},
     "output_type": "display_data"
    },
    {
     "name": "stdout",
     "output_type": "stream",
     "text": [
      "\n",
      "Next reset time: 2020-12-12 18:40:07 (UTC)\n",
      "Executing 15 queries for friends.\n"
     ]
    },
    {
     "data": {
      "application/vnd.jupyter.widget-view+json": {
       "model_id": "20dcd950765a46119aab968b475e14f3",
       "version_major": 2,
       "version_minor": 0
      },
      "text/plain": [
       "HBox(children=(HTML(value=''), FloatProgress(value=0.0, max=15.0), HTML(value='')))"
      ]
     },
     "metadata": {},
     "output_type": "display_data"
    },
    {
     "name": "stdout",
     "output_type": "stream",
     "text": [
      "\n",
      "Next reset time: 2020-12-12 18:40:11 (UTC)\n",
      "Data saved!\n",
      "Number of collected followers: 266,748 (out of 1,662,736).\n",
      "Number of unique users: 3,456 (out of 18,689).\n",
      "Number of collected friends: 367,209 (out of 2,208,697).\n",
      "Number of unique users: 3,456 (out of 22,099).\n",
      "Waiting for 894 seconds to continue (until 2020-12-12 18:40:11 (UTC)).\n",
      "\n",
      "Executing 15 queries for followers.\n"
     ]
    },
    {
     "data": {
      "application/vnd.jupyter.widget-view+json": {
       "model_id": "51df2b9b6de04c9fa9124a21ef21fdfd",
       "version_major": 2,
       "version_minor": 0
      },
      "text/plain": [
       "HBox(children=(HTML(value=''), FloatProgress(value=0.0, max=15.0), HTML(value='')))"
      ]
     },
     "metadata": {},
     "output_type": "display_data"
    },
    {
     "name": "stdout",
     "output_type": "stream",
     "text": [
      "https://api.twitter.com/1.1/followers/ids.json?user_id=153932195&cursor=-1&count=305\n",
      "Query 2 --     User 153932195: got 304 followers instead of 305.\n",
      "\n",
      "Next reset time: 2020-12-12 18:55:11 (UTC)\n",
      "Executing 15 queries for friends.\n"
     ]
    },
    {
     "data": {
      "application/vnd.jupyter.widget-view+json": {
       "model_id": "6bb08e2b89314888b35297657df2f68d",
       "version_major": 2,
       "version_minor": 0
      },
      "text/plain": [
       "HBox(children=(HTML(value=''), FloatProgress(value=0.0, max=15.0), HTML(value='')))"
      ]
     },
     "metadata": {},
     "output_type": "display_data"
    },
    {
     "name": "stdout",
     "output_type": "stream",
     "text": [
      "https://api.twitter.com/1.1/friends/ids.json?user_id=2715558879&cursor=-1&count=368\n",
      "Query 5 --     User 2715558879: got 365 friends instead of 368.\n",
      "https://api.twitter.com/1.1/friends/ids.json?user_id=330057778&cursor=-1&count=1341\n",
      "Query 12 --    User 330057778: got 1,340 friends instead of 1,341.\n",
      "\n",
      "Next reset time: 2020-12-12 18:55:15 (UTC)\n",
      "Data saved!\n",
      "Number of collected followers: 267,135 (out of 1,662,736).\n",
      "Number of unique users: 3,471 (out of 18,689).\n",
      "Number of collected friends: 369,398 (out of 2,208,697).\n",
      "Number of unique users: 3,471 (out of 22,099).\n",
      "Waiting for 894 seconds to continue (until 2020-12-12 18:55:15 (UTC)).\n",
      "\n",
      "Executing 15 queries for followers.\n"
     ]
    },
    {
     "data": {
      "application/vnd.jupyter.widget-view+json": {
       "model_id": "6a5082d247fa462dab6203cc7c6dd9c7",
       "version_major": 2,
       "version_minor": 0
      },
      "text/plain": [
       "HBox(children=(HTML(value=''), FloatProgress(value=0.0, max=15.0), HTML(value='')))"
      ]
     },
     "metadata": {},
     "output_type": "display_data"
    },
    {
     "name": "stdout",
     "output_type": "stream",
     "text": [
      "\n",
      "Next reset time: 2020-12-12 19:10:15 (UTC)\n",
      "Executing 15 queries for friends.\n"
     ]
    },
    {
     "data": {
      "application/vnd.jupyter.widget-view+json": {
       "model_id": "1b957d8072cb4848a40e5c2b8e14e9b5",
       "version_major": 2,
       "version_minor": 0
      },
      "text/plain": [
       "HBox(children=(HTML(value=''), FloatProgress(value=0.0, max=15.0), HTML(value='')))"
      ]
     },
     "metadata": {},
     "output_type": "display_data"
    },
    {
     "name": "stdout",
     "output_type": "stream",
     "text": [
      "https://api.twitter.com/1.1/friends/ids.json?user_id=485702821&cursor=-1&count=111\n",
      "Query 7 --     User 485702821: got 110 friends instead of 111.\n",
      "https://api.twitter.com/1.1/friends/ids.json?user_id=113375289&cursor=-1&count=1\n",
      "Query 14 --    User 113375289: got 0 friends instead of 1.\n",
      "\n",
      "Next reset time: 2020-12-12 19:10:19 (UTC)\n",
      "Data saved!\n",
      "Number of collected followers: 267,611 (out of 1,662,736).\n",
      "Number of unique users: 3,486 (out of 18,689).\n",
      "Number of collected friends: 369,822 (out of 2,208,697).\n",
      "Number of unique users: 3,485 (out of 22,099).\n",
      "Waiting for 894 seconds to continue (until 2020-12-12 19:10:19 (UTC)).\n",
      "\n",
      "Executing 15 queries for followers.\n"
     ]
    },
    {
     "data": {
      "application/vnd.jupyter.widget-view+json": {
       "model_id": "d4a004f1e7f448258f2a244bfe7c2428",
       "version_major": 2,
       "version_minor": 0
      },
      "text/plain": [
       "HBox(children=(HTML(value=''), FloatProgress(value=0.0, max=15.0), HTML(value='')))"
      ]
     },
     "metadata": {},
     "output_type": "display_data"
    },
    {
     "name": "stdout",
     "output_type": "stream",
     "text": [
      "\n",
      "Next reset time: 2020-12-12 19:25:19 (UTC)\n",
      "Executing 15 queries for friends.\n"
     ]
    },
    {
     "data": {
      "application/vnd.jupyter.widget-view+json": {
       "model_id": "0f3112dd4b1343ee95b5342e2e47b8c4",
       "version_major": 2,
       "version_minor": 0
      },
      "text/plain": [
       "HBox(children=(HTML(value=''), FloatProgress(value=0.0, max=15.0), HTML(value='')))"
      ]
     },
     "metadata": {},
     "output_type": "display_data"
    },
    {
     "name": "stdout",
     "output_type": "stream",
     "text": [
      "\n",
      "Next reset time: 2020-12-12 19:25:23 (UTC)\n",
      "Data saved!\n",
      "Number of collected followers: 268,239 (out of 1,662,736).\n",
      "Number of unique users: 3,501 (out of 18,689).\n",
      "Number of collected friends: 370,515 (out of 2,208,697).\n",
      "Number of unique users: 3,500 (out of 22,099).\n",
      "Waiting for 894 seconds to continue (until 2020-12-12 19:25:23 (UTC)).\n",
      "\n",
      "Executing 15 queries for followers.\n"
     ]
    },
    {
     "data": {
      "application/vnd.jupyter.widget-view+json": {
       "model_id": "a72964f7ad164570957b79e48a6c1a70",
       "version_major": 2,
       "version_minor": 0
      },
      "text/plain": [
       "HBox(children=(HTML(value=''), FloatProgress(value=0.0, max=15.0), HTML(value='')))"
      ]
     },
     "metadata": {},
     "output_type": "display_data"
    },
    {
     "name": "stdout",
     "output_type": "stream",
     "text": [
      "https://api.twitter.com/1.1/followers/ids.json?user_id=2252344758&cursor=-1&count=361\n",
      "Query 10 --    User 2252344758: got 360 followers instead of 361.\n",
      "\n",
      "Next reset time: 2020-12-12 19:40:23 (UTC)\n",
      "Executing 15 queries for friends.\n"
     ]
    },
    {
     "data": {
      "application/vnd.jupyter.widget-view+json": {
       "model_id": "8060ab1d28cd4bd3b45f0bba04e28bdb",
       "version_major": 2,
       "version_minor": 0
      },
      "text/plain": [
       "HBox(children=(HTML(value=''), FloatProgress(value=0.0, max=15.0), HTML(value='')))"
      ]
     },
     "metadata": {},
     "output_type": "display_data"
    },
    {
     "name": "stdout",
     "output_type": "stream",
     "text": [
      "https://api.twitter.com/1.1/friends/ids.json?user_id=2315664816&cursor=-1&count=713\n",
      "Query 15 --    User 2315664816: got 712 friends instead of 713.\n",
      "\n",
      "Next reset time: 2020-12-12 19:40:27 (UTC)\n",
      "Data saved!\n",
      "Number of collected followers: 269,424 (out of 1,662,736).\n",
      "Number of unique users: 3,516 (out of 18,689).\n",
      "Number of collected friends: 371,696 (out of 2,208,697).\n",
      "Number of unique users: 3,515 (out of 22,099).\n",
      "Waiting for 894 seconds to continue (until 2020-12-12 19:40:27 (UTC)).\n",
      "\n",
      "Executing 15 queries for followers.\n"
     ]
    },
    {
     "data": {
      "application/vnd.jupyter.widget-view+json": {
       "model_id": "d3e8a23d8bb346c9869c0ac203ae318e",
       "version_major": 2,
       "version_minor": 0
      },
      "text/plain": [
       "HBox(children=(HTML(value=''), FloatProgress(value=0.0, max=15.0), HTML(value='')))"
      ]
     },
     "metadata": {},
     "output_type": "display_data"
    },
    {
     "name": "stdout",
     "output_type": "stream",
     "text": [
      "\n",
      "Next reset time: 2020-12-12 19:55:27 (UTC)\n",
      "Executing 15 queries for friends.\n"
     ]
    },
    {
     "data": {
      "application/vnd.jupyter.widget-view+json": {
       "model_id": "3000d6d5a4df4472ab5df0188e9d6eed",
       "version_major": 2,
       "version_minor": 0
      },
      "text/plain": [
       "HBox(children=(HTML(value=''), FloatProgress(value=0.0, max=15.0), HTML(value='')))"
      ]
     },
     "metadata": {},
     "output_type": "display_data"
    },
    {
     "name": "stdout",
     "output_type": "stream",
     "text": [
      "\n",
      "Next reset time: 2020-12-12 19:55:31 (UTC)\n",
      "Data saved!\n",
      "Number of collected followers: 270,165 (out of 1,662,736).\n",
      "Number of unique users: 3,531 (out of 18,689).\n",
      "Number of collected friends: 372,693 (out of 2,208,697).\n",
      "Number of unique users: 3,530 (out of 22,099).\n",
      "Waiting for 894 seconds to continue (until 2020-12-12 19:55:31 (UTC)).\n",
      "\n",
      "Executing 15 queries for followers.\n"
     ]
    },
    {
     "data": {
      "application/vnd.jupyter.widget-view+json": {
       "model_id": "02e62394e2f74bc58c126329a48d4733",
       "version_major": 2,
       "version_minor": 0
      },
      "text/plain": [
       "HBox(children=(HTML(value=''), FloatProgress(value=0.0, max=15.0), HTML(value='')))"
      ]
     },
     "metadata": {},
     "output_type": "display_data"
    },
    {
     "name": "stdout",
     "output_type": "stream",
     "text": [
      "https://api.twitter.com/1.1/followers/ids.json?user_id=2876767006&cursor=-1&count=184\n",
      "Query 5 --     User 2876767006: got 183 followers instead of 184.\n",
      "https://api.twitter.com/1.1/followers/ids.json?user_id=377241899&cursor=-1&count=35\n",
      "Query 9 --     User 377241899: got 34 followers instead of 35.\n",
      "https://api.twitter.com/1.1/followers/ids.json?user_id=2806332151&cursor=-1&count=972\n",
      "Query 12 --    User 2806332151: got 969 followers instead of 972.\n",
      "\n",
      "Next reset time: 2020-12-12 20:10:31 (UTC)\n",
      "Executing 15 queries for friends.\n"
     ]
    },
    {
     "data": {
      "application/vnd.jupyter.widget-view+json": {
       "model_id": "4038f9422b594f6d87413b566feb1dbc",
       "version_major": 2,
       "version_minor": 0
      },
      "text/plain": [
       "HBox(children=(HTML(value=''), FloatProgress(value=0.0, max=15.0), HTML(value='')))"
      ]
     },
     "metadata": {},
     "output_type": "display_data"
    },
    {
     "name": "stdout",
     "output_type": "stream",
     "text": [
      "\n",
      "Next reset time: 2020-12-12 20:10:35 (UTC)\n",
      "Data saved!\n",
      "Number of collected followers: 271,434 (out of 1,662,736).\n",
      "Number of unique users: 3,546 (out of 18,689).\n",
      "Number of collected friends: 373,207 (out of 2,208,697).\n",
      "Number of unique users: 3,545 (out of 22,099).\n",
      "Waiting for 894 seconds to continue (until 2020-12-12 20:10:35 (UTC)).\n",
      "\n",
      "Executing 15 queries for followers.\n"
     ]
    },
    {
     "data": {
      "application/vnd.jupyter.widget-view+json": {
       "model_id": "b3731f800b8d4656b807d5f07196e0ec",
       "version_major": 2,
       "version_minor": 0
      },
      "text/plain": [
       "HBox(children=(HTML(value=''), FloatProgress(value=0.0, max=15.0), HTML(value='')))"
      ]
     },
     "metadata": {},
     "output_type": "display_data"
    },
    {
     "name": "stdout",
     "output_type": "stream",
     "text": [
      "https://api.twitter.com/1.1/followers/ids.json?user_id=49476144&cursor=-1&count=59\n",
      "Query 1 --     User 49476144: got 58 followers instead of 59.\n",
      "https://api.twitter.com/1.1/followers/ids.json?user_id=1459767343&cursor=-1&count=284\n",
      "Query 11 --    User 1459767343: got 283 followers instead of 284.\n",
      "\n",
      "Next reset time: 2020-12-12 20:25:35 (UTC)\n",
      "Executing 15 queries for friends.\n"
     ]
    },
    {
     "data": {
      "application/vnd.jupyter.widget-view+json": {
       "model_id": "d33a9ef0bae74ed4a3e02fead53804d6",
       "version_major": 2,
       "version_minor": 0
      },
      "text/plain": [
       "HBox(children=(HTML(value=''), FloatProgress(value=0.0, max=15.0), HTML(value='')))"
      ]
     },
     "metadata": {},
     "output_type": "display_data"
    },
    {
     "name": "stdout",
     "output_type": "stream",
     "text": [
      "https://api.twitter.com/1.1/friends/ids.json?user_id=622736525&cursor=-1&count=87\n",
      "Query 2 --     User 622736525: got 86 friends instead of 87.\n",
      "https://api.twitter.com/1.1/friends/ids.json?user_id=741823496&cursor=-1&count=216\n",
      "Query 5 --     User 741823496: got 214 friends instead of 216.\n",
      "https://api.twitter.com/1.1/friends/ids.json?user_id=710553329&cursor=-1&count=57\n",
      "Query 9 --     User 710553329: got 56 friends instead of 57.\n",
      "https://api.twitter.com/1.1/friends/ids.json?user_id=831523723&cursor=-1&count=536\n",
      "Query 12 --    User 831523723: got 534 friends instead of 536.\n",
      "\n",
      "Next reset time: 2020-12-12 20:25:39 (UTC)\n",
      "Data saved!\n",
      "Number of collected followers: 271,955 (out of 1,662,736).\n",
      "Number of unique users: 3,561 (out of 18,689).\n",
      "Number of collected friends: 375,014 (out of 2,208,697).\n",
      "Number of unique users: 3,560 (out of 22,099).\n",
      "Waiting for 894 seconds to continue (until 2020-12-12 20:25:39 (UTC)).\n",
      "\n",
      "Executing 15 queries for followers.\n"
     ]
    },
    {
     "data": {
      "application/vnd.jupyter.widget-view+json": {
       "model_id": "afc3a6e0e2734fe6afb6651c09011b56",
       "version_major": 2,
       "version_minor": 0
      },
      "text/plain": [
       "HBox(children=(HTML(value=''), FloatProgress(value=0.0, max=15.0), HTML(value='')))"
      ]
     },
     "metadata": {},
     "output_type": "display_data"
    },
    {
     "name": "stdout",
     "output_type": "stream",
     "text": [
      "https://api.twitter.com/1.1/followers/ids.json?user_id=68621351&cursor=-1&count=391\n",
      "Query 8 --     User 68621351: got 390 followers instead of 391.\n",
      "\n",
      "Next reset time: 2020-12-12 20:40:39 (UTC)\n",
      "Executing 15 queries for friends.\n"
     ]
    },
    {
     "data": {
      "application/vnd.jupyter.widget-view+json": {
       "model_id": "c878442077994d9ba4338836723599d4",
       "version_major": 2,
       "version_minor": 0
      },
      "text/plain": [
       "HBox(children=(HTML(value=''), FloatProgress(value=0.0, max=15.0), HTML(value='')))"
      ]
     },
     "metadata": {},
     "output_type": "display_data"
    },
    {
     "name": "stdout",
     "output_type": "stream",
     "text": [
      "https://api.twitter.com/1.1/friends/ids.json?user_id=867575724&cursor=-1&count=35\n",
      "Query 10 --    User 867575724: got 34 friends instead of 35.\n",
      "\n",
      "Next reset time: 2020-12-12 20:40:43 (UTC)\n",
      "Data saved!\n",
      "Number of collected followers: 272,869 (out of 1,662,736).\n",
      "Number of unique users: 3,576 (out of 18,689).\n",
      "Number of collected friends: 376,320 (out of 2,208,697).\n",
      "Number of unique users: 3,575 (out of 22,099).\n",
      "Waiting for 894 seconds to continue (until 2020-12-12 20:40:43 (UTC)).\n",
      "\n",
      "Executing 15 queries for followers.\n"
     ]
    },
    {
     "data": {
      "application/vnd.jupyter.widget-view+json": {
       "model_id": "406af217a03f4a998cee015aad00ad01",
       "version_major": 2,
       "version_minor": 0
      },
      "text/plain": [
       "HBox(children=(HTML(value=''), FloatProgress(value=0.0, max=15.0), HTML(value='')))"
      ]
     },
     "metadata": {},
     "output_type": "display_data"
    },
    {
     "name": "stdout",
     "output_type": "stream",
     "text": [
      "\n",
      "Next reset time: 2020-12-12 20:55:43 (UTC)\n",
      "Executing 15 queries for friends.\n"
     ]
    },
    {
     "data": {
      "application/vnd.jupyter.widget-view+json": {
       "model_id": "18add3fa43a94769b37ef1afba725904",
       "version_major": 2,
       "version_minor": 0
      },
      "text/plain": [
       "HBox(children=(HTML(value=''), FloatProgress(value=0.0, max=15.0), HTML(value='')))"
      ]
     },
     "metadata": {},
     "output_type": "display_data"
    },
    {
     "name": "stdout",
     "output_type": "stream",
     "text": [
      "https://api.twitter.com/1.1/friends/ids.json?user_id=2243843301&cursor=-1&count=101\n",
      "Query 6 --     User 2243843301: got 100 friends instead of 101.\n",
      "https://api.twitter.com/1.1/friends/ids.json?user_id=438568537&cursor=-1&count=2480\n",
      "Query 7 --     User 438568537: got 2,479 friends instead of 2,480.\n",
      "https://api.twitter.com/1.1/friends/ids.json?user_id=2839516955&cursor=-1&count=776\n",
      "Query 15 --    User 2839516955: got 775 friends instead of 776.\n",
      "\n",
      "Next reset time: 2020-12-12 20:55:47 (UTC)\n",
      "Data saved!\n",
      "Number of collected followers: 273,479 (out of 1,662,736).\n",
      "Number of unique users: 3,591 (out of 18,689).\n",
      "Number of collected friends: 381,507 (out of 2,208,697).\n",
      "Number of unique users: 3,590 (out of 22,099).\n",
      "Waiting for 894 seconds to continue (until 2020-12-12 20:55:47 (UTC)).\n",
      "\n",
      "Executing 15 queries for followers.\n"
     ]
    },
    {
     "data": {
      "application/vnd.jupyter.widget-view+json": {
       "model_id": "2715fb3d96a6431c83803fac74656914",
       "version_major": 2,
       "version_minor": 0
      },
      "text/plain": [
       "HBox(children=(HTML(value=''), FloatProgress(value=0.0, max=15.0), HTML(value='')))"
      ]
     },
     "metadata": {},
     "output_type": "display_data"
    },
    {
     "name": "stdout",
     "output_type": "stream",
     "text": [
      "https://api.twitter.com/1.1/followers/ids.json?user_id=390193652&cursor=-1&count=422\n",
      "Query 3 --     User 390193652: got 421 followers instead of 422.\n",
      "\n",
      "Next reset time: 2020-12-12 21:10:47 (UTC)\n",
      "Executing 15 queries for friends.\n"
     ]
    },
    {
     "data": {
      "application/vnd.jupyter.widget-view+json": {
       "model_id": "6d5cf74f7dca485cb78eda80ffd13f3a",
       "version_major": 2,
       "version_minor": 0
      },
      "text/plain": [
       "HBox(children=(HTML(value=''), FloatProgress(value=0.0, max=15.0), HTML(value='')))"
      ]
     },
     "metadata": {},
     "output_type": "display_data"
    },
    {
     "name": "stdout",
     "output_type": "stream",
     "text": [
      "\n",
      "Next reset time: 2020-12-12 21:10:51 (UTC)\n",
      "Data saved!\n",
      "Number of collected followers: 274,130 (out of 1,662,736).\n",
      "Number of unique users: 3,606 (out of 18,689).\n",
      "Number of collected friends: 382,212 (out of 2,208,697).\n",
      "Number of unique users: 3,605 (out of 22,099).\n",
      "Waiting for 894 seconds to continue (until 2020-12-12 21:10:51 (UTC)).\n",
      "\n",
      "Executing 15 queries for followers.\n"
     ]
    },
    {
     "data": {
      "application/vnd.jupyter.widget-view+json": {
       "model_id": "78c59cffcd7d4ca39730afe3e390aafd",
       "version_major": 2,
       "version_minor": 0
      },
      "text/plain": [
       "HBox(children=(HTML(value=''), FloatProgress(value=0.0, max=15.0), HTML(value='')))"
      ]
     },
     "metadata": {},
     "output_type": "display_data"
    },
    {
     "name": "stdout",
     "output_type": "stream",
     "text": [
      "\n",
      "Next reset time: 2020-12-12 21:25:51 (UTC)\n",
      "Executing 15 queries for friends.\n"
     ]
    },
    {
     "data": {
      "application/vnd.jupyter.widget-view+json": {
       "model_id": "038c0bf85a4f4478b5adebf91efe8ce2",
       "version_major": 2,
       "version_minor": 0
      },
      "text/plain": [
       "HBox(children=(HTML(value=''), FloatProgress(value=0.0, max=15.0), HTML(value='')))"
      ]
     },
     "metadata": {},
     "output_type": "display_data"
    },
    {
     "name": "stdout",
     "output_type": "stream",
     "text": [
      "\n",
      "Next reset time: 2020-12-12 21:25:55 (UTC)\n",
      "Data saved!\n",
      "Number of collected followers: 275,375 (out of 1,662,736).\n",
      "Number of unique users: 3,621 (out of 18,689).\n",
      "Number of collected friends: 383,208 (out of 2,208,697).\n",
      "Number of unique users: 3,620 (out of 22,099).\n",
      "Waiting for 894 seconds to continue (until 2020-12-12 21:25:55 (UTC)).\n",
      "\n",
      "Executing 15 queries for followers.\n"
     ]
    },
    {
     "data": {
      "application/vnd.jupyter.widget-view+json": {
       "model_id": "7d9568fd9c5a414696ab08e59f3b9549",
       "version_major": 2,
       "version_minor": 0
      },
      "text/plain": [
       "HBox(children=(HTML(value=''), FloatProgress(value=0.0, max=15.0), HTML(value='')))"
      ]
     },
     "metadata": {},
     "output_type": "display_data"
    },
    {
     "name": "stdout",
     "output_type": "stream",
     "text": [
      "\n",
      "Next reset time: 2020-12-12 21:40:55 (UTC)\n",
      "Executing 15 queries for friends.\n"
     ]
    },
    {
     "data": {
      "application/vnd.jupyter.widget-view+json": {
       "model_id": "471232d3a46e42b9892ee0e0dda6d4c9",
       "version_major": 2,
       "version_minor": 0
      },
      "text/plain": [
       "HBox(children=(HTML(value=''), FloatProgress(value=0.0, max=15.0), HTML(value='')))"
      ]
     },
     "metadata": {},
     "output_type": "display_data"
    },
    {
     "name": "stdout",
     "output_type": "stream",
     "text": [
      "https://api.twitter.com/1.1/friends/ids.json?user_id=1148749495&cursor=-1&count=40\n",
      "Query 8 --     User 1148749495: got 39 friends instead of 40.\n",
      "\n",
      "Next reset time: 2020-12-12 21:40:59 (UTC)\n",
      "Data saved!\n",
      "Number of collected followers: 275,645 (out of 1,662,736).\n",
      "Number of unique users: 3,636 (out of 18,689).\n",
      "Number of collected friends: 383,715 (out of 2,208,697).\n",
      "Number of unique users: 3,635 (out of 22,099).\n",
      "Waiting for 894 seconds to continue (until 2020-12-12 21:40:59 (UTC)).\n",
      "\n",
      "Executing 15 queries for followers.\n"
     ]
    },
    {
     "data": {
      "application/vnd.jupyter.widget-view+json": {
       "model_id": "3ea1fa7eca054109860c7ea2dc76c52a",
       "version_major": 2,
       "version_minor": 0
      },
      "text/plain": [
       "HBox(children=(HTML(value=''), FloatProgress(value=0.0, max=15.0), HTML(value='')))"
      ]
     },
     "metadata": {},
     "output_type": "display_data"
    },
    {
     "name": "stdout",
     "output_type": "stream",
     "text": [
      "\n",
      "Next reset time: 2020-12-12 21:55:59 (UTC)\n",
      "Executing 15 queries for friends.\n"
     ]
    },
    {
     "data": {
      "application/vnd.jupyter.widget-view+json": {
       "model_id": "0609803c6b7b41d3805164f3d9e07c5c",
       "version_major": 2,
       "version_minor": 0
      },
      "text/plain": [
       "HBox(children=(HTML(value=''), FloatProgress(value=0.0, max=15.0), HTML(value='')))"
      ]
     },
     "metadata": {},
     "output_type": "display_data"
    },
    {
     "name": "stdout",
     "output_type": "stream",
     "text": [
      "\n",
      "Next reset time: 2020-12-12 21:56:03 (UTC)\n",
      "Data saved!\n",
      "Number of collected followers: 275,901 (out of 1,662,736).\n",
      "Number of unique users: 3,651 (out of 18,689).\n",
      "Number of collected friends: 383,927 (out of 2,208,697).\n",
      "Number of unique users: 3,650 (out of 22,099).\n",
      "Waiting for 894 seconds to continue (until 2020-12-12 21:56:03 (UTC)).\n",
      "\n",
      "Executing 15 queries for followers.\n"
     ]
    },
    {
     "data": {
      "application/vnd.jupyter.widget-view+json": {
       "model_id": "26a74979b51c44448ea8fc4390cab5b7",
       "version_major": 2,
       "version_minor": 0
      },
      "text/plain": [
       "HBox(children=(HTML(value=''), FloatProgress(value=0.0, max=15.0), HTML(value='')))"
      ]
     },
     "metadata": {},
     "output_type": "display_data"
    },
    {
     "name": "stdout",
     "output_type": "stream",
     "text": [
      "https://api.twitter.com/1.1/followers/ids.json?user_id=2426714385&cursor=-1&count=139\n",
      "Query 1 --     User 2426714385: got 138 followers instead of 139.\n",
      "\n",
      "Next reset time: 2020-12-12 22:11:03 (UTC)\n",
      "Executing 15 queries for friends.\n"
     ]
    },
    {
     "data": {
      "application/vnd.jupyter.widget-view+json": {
       "model_id": "018a3f112d1641048a6b0da088720660",
       "version_major": 2,
       "version_minor": 0
      },
      "text/plain": [
       "HBox(children=(HTML(value=''), FloatProgress(value=0.0, max=15.0), HTML(value='')))"
      ]
     },
     "metadata": {},
     "output_type": "display_data"
    },
    {
     "name": "stdout",
     "output_type": "stream",
     "text": [
      "\n",
      "Next reset time: 2020-12-12 22:11:07 (UTC)\n",
      "Data saved!\n",
      "Number of collected followers: 276,619 (out of 1,662,736).\n",
      "Number of unique users: 3,666 (out of 18,689).\n",
      "Number of collected friends: 387,269 (out of 2,208,697).\n",
      "Number of unique users: 3,665 (out of 22,099).\n",
      "Waiting for 893 seconds to continue (until 2020-12-12 22:11:07 (UTC)).\n",
      "\n",
      "Executing 15 queries for followers.\n"
     ]
    },
    {
     "data": {
      "application/vnd.jupyter.widget-view+json": {
       "model_id": "aeb028676b9d4689a7853fca4ae6f4f8",
       "version_major": 2,
       "version_minor": 0
      },
      "text/plain": [
       "HBox(children=(HTML(value=''), FloatProgress(value=0.0, max=15.0), HTML(value='')))"
      ]
     },
     "metadata": {},
     "output_type": "display_data"
    },
    {
     "name": "stdout",
     "output_type": "stream",
     "text": [
      "\n",
      "Next reset time: 2020-12-12 22:26:07 (UTC)\n",
      "Executing 15 queries for friends.\n"
     ]
    },
    {
     "data": {
      "application/vnd.jupyter.widget-view+json": {
       "model_id": "81cb094409b1481686ddae579d60b9ab",
       "version_major": 2,
       "version_minor": 0
      },
      "text/plain": [
       "HBox(children=(HTML(value=''), FloatProgress(value=0.0, max=15.0), HTML(value='')))"
      ]
     },
     "metadata": {},
     "output_type": "display_data"
    },
    {
     "name": "stdout",
     "output_type": "stream",
     "text": [
      "\n",
      "Next reset time: 2020-12-12 22:26:11 (UTC)\n",
      "Data saved!\n",
      "Number of collected followers: 276,985 (out of 1,662,736).\n",
      "Number of unique users: 3,681 (out of 18,689).\n",
      "Number of collected friends: 391,063 (out of 2,208,697).\n",
      "Number of unique users: 3,680 (out of 22,099).\n",
      "Waiting for 894 seconds to continue (until 2020-12-12 22:26:11 (UTC)).\n",
      "\n",
      "Executing 15 queries for followers.\n"
     ]
    },
    {
     "data": {
      "application/vnd.jupyter.widget-view+json": {
       "model_id": "ad1d63cc58f14c23bdb5962dd5e1a328",
       "version_major": 2,
       "version_minor": 0
      },
      "text/plain": [
       "HBox(children=(HTML(value=''), FloatProgress(value=0.0, max=15.0), HTML(value='')))"
      ]
     },
     "metadata": {},
     "output_type": "display_data"
    },
    {
     "name": "stdout",
     "output_type": "stream",
     "text": [
      "\n",
      "Next reset time: 2020-12-12 22:41:11 (UTC)\n",
      "Executing 15 queries for friends.\n"
     ]
    },
    {
     "data": {
      "application/vnd.jupyter.widget-view+json": {
       "model_id": "5aa9d8d408a942389d2c07f8822db9e5",
       "version_major": 2,
       "version_minor": 0
      },
      "text/plain": [
       "HBox(children=(HTML(value=''), FloatProgress(value=0.0, max=15.0), HTML(value='')))"
      ]
     },
     "metadata": {},
     "output_type": "display_data"
    },
    {
     "name": "stdout",
     "output_type": "stream",
     "text": [
      "https://api.twitter.com/1.1/friends/ids.json?user_id=189715999&cursor=-1&count=373\n",
      "Query 5 --     User 189715999: got 372 friends instead of 373.\n",
      "\n",
      "Next reset time: 2020-12-12 22:41:15 (UTC)\n",
      "Data saved!\n",
      "Number of collected followers: 277,129 (out of 1,662,736).\n",
      "Number of unique users: 3,696 (out of 18,689).\n",
      "Number of collected friends: 391,685 (out of 2,208,697).\n",
      "Number of unique users: 3,695 (out of 22,099).\n",
      "Waiting for 894 seconds to continue (until 2020-12-12 22:41:15 (UTC)).\n",
      "\n",
      "Executing 15 queries for followers.\n"
     ]
    },
    {
     "data": {
      "application/vnd.jupyter.widget-view+json": {
       "model_id": "c96016c8985b40ff905af6ae7cd0f4d1",
       "version_major": 2,
       "version_minor": 0
      },
      "text/plain": [
       "HBox(children=(HTML(value=''), FloatProgress(value=0.0, max=15.0), HTML(value='')))"
      ]
     },
     "metadata": {},
     "output_type": "display_data"
    },
    {
     "name": "stdout",
     "output_type": "stream",
     "text": [
      "https://api.twitter.com/1.1/followers/ids.json?user_id=41183224&cursor=-1&count=119\n",
      "Query 1 --     User 41183224: got 118 followers instead of 119.\n",
      "https://api.twitter.com/1.1/followers/ids.json?user_id=2778642032&cursor=-1&count=438\n",
      "Query 3 --     User 2778642032: got 437 followers instead of 438.\n",
      "\n",
      "Next reset time: 2020-12-12 22:56:15 (UTC)\n",
      "Executing 15 queries for friends.\n"
     ]
    },
    {
     "data": {
      "application/vnd.jupyter.widget-view+json": {
       "model_id": "aaba4c547c074ecfb2853e42781793bd",
       "version_major": 2,
       "version_minor": 0
      },
      "text/plain": [
       "HBox(children=(HTML(value=''), FloatProgress(value=0.0, max=15.0), HTML(value='')))"
      ]
     },
     "metadata": {},
     "output_type": "display_data"
    },
    {
     "name": "stdout",
     "output_type": "stream",
     "text": [
      "\n",
      "Next reset time: 2020-12-12 22:56:19 (UTC)\n",
      "Data saved!\n",
      "Number of collected followers: 278,350 (out of 1,662,736).\n",
      "Number of unique users: 3,711 (out of 18,689).\n",
      "Number of collected friends: 392,176 (out of 2,208,697).\n",
      "Number of unique users: 3,710 (out of 22,099).\n",
      "Waiting for 894 seconds to continue (until 2020-12-12 22:56:19 (UTC)).\n",
      "\n",
      "Executing 15 queries for followers.\n"
     ]
    },
    {
     "data": {
      "application/vnd.jupyter.widget-view+json": {
       "model_id": "735020ddcd60480eafb72db64578a7be",
       "version_major": 2,
       "version_minor": 0
      },
      "text/plain": [
       "HBox(children=(HTML(value=''), FloatProgress(value=0.0, max=15.0), HTML(value='')))"
      ]
     },
     "metadata": {},
     "output_type": "display_data"
    },
    {
     "name": "stdout",
     "output_type": "stream",
     "text": [
      "https://api.twitter.com/1.1/followers/ids.json?user_id=2897565236&cursor=-1&count=83\n",
      "Query 1 --     User 2897565236: got 82 followers instead of 83.\n",
      "\n",
      "Next reset time: 2020-12-12 23:11:19 (UTC)\n",
      "Executing 15 queries for friends.\n"
     ]
    },
    {
     "data": {
      "application/vnd.jupyter.widget-view+json": {
       "model_id": "edbd6c0f203f4df1b4948e4fd36655da",
       "version_major": 2,
       "version_minor": 0
      },
      "text/plain": [
       "HBox(children=(HTML(value=''), FloatProgress(value=0.0, max=15.0), HTML(value='')))"
      ]
     },
     "metadata": {},
     "output_type": "display_data"
    },
    {
     "name": "stdout",
     "output_type": "stream",
     "text": [
      "https://api.twitter.com/1.1/friends/ids.json?user_id=338753999&cursor=-1&count=959\n",
      "Query 11 --    User 338753999: got 958 friends instead of 959.\n",
      "https://api.twitter.com/1.1/friends/ids.json?user_id=53133119&cursor=-1&count=406\n",
      "Query 14 --    User 53133119: got 402 friends instead of 406.\n",
      "\n",
      "Next reset time: 2020-12-12 23:11:24 (UTC)\n",
      "Data saved!\n",
      "Number of collected followers: 278,908 (out of 1,662,736).\n",
      "Number of unique users: 3,726 (out of 18,689).\n",
      "Number of collected friends: 395,339 (out of 2,208,697).\n",
      "Number of unique users: 3,725 (out of 22,099).\n",
      "Waiting for 894 seconds to continue (until 2020-12-12 23:11:24 (UTC)).\n",
      "\n",
      "Executing 15 queries for followers.\n"
     ]
    },
    {
     "data": {
      "application/vnd.jupyter.widget-view+json": {
       "model_id": "6e3d57be1e364838962c05e61a60f617",
       "version_major": 2,
       "version_minor": 0
      },
      "text/plain": [
       "HBox(children=(HTML(value=''), FloatProgress(value=0.0, max=15.0), HTML(value='')))"
      ]
     },
     "metadata": {},
     "output_type": "display_data"
    },
    {
     "name": "stdout",
     "output_type": "stream",
     "text": [
      "\n",
      "Next reset time: 2020-12-12 23:26:24 (UTC)\n",
      "Executing 15 queries for friends.\n"
     ]
    },
    {
     "data": {
      "application/vnd.jupyter.widget-view+json": {
       "model_id": "30dffa6e070048d2b31131b31c8b3b3d",
       "version_major": 2,
       "version_minor": 0
      },
      "text/plain": [
       "HBox(children=(HTML(value=''), FloatProgress(value=0.0, max=15.0), HTML(value='')))"
      ]
     },
     "metadata": {},
     "output_type": "display_data"
    },
    {
     "name": "stdout",
     "output_type": "stream",
     "text": [
      "\n",
      "Next reset time: 2020-12-12 23:26:28 (UTC)\n",
      "Data saved!\n",
      "Number of collected followers: 279,241 (out of 1,662,736).\n",
      "Number of unique users: 3,741 (out of 18,689).\n",
      "Number of collected friends: 397,021 (out of 2,208,697).\n",
      "Number of unique users: 3,740 (out of 22,099).\n",
      "Waiting for 893 seconds to continue (until 2020-12-12 23:26:28 (UTC)).\n",
      "\n",
      "Executing 15 queries for followers.\n"
     ]
    },
    {
     "data": {
      "application/vnd.jupyter.widget-view+json": {
       "model_id": "3f4b1e5fd6f44ee5a27222308088af3e",
       "version_major": 2,
       "version_minor": 0
      },
      "text/plain": [
       "HBox(children=(HTML(value=''), FloatProgress(value=0.0, max=15.0), HTML(value='')))"
      ]
     },
     "metadata": {},
     "output_type": "display_data"
    },
    {
     "name": "stdout",
     "output_type": "stream",
     "text": [
      "https://api.twitter.com/1.1/followers/ids.json?user_id=1113988416&cursor=-1&count=10\n",
      "Query 4 --     User 1113988416: got 9 followers instead of 10.\n",
      "\n",
      "Next reset time: 2020-12-12 23:41:28 (UTC)\n",
      "Executing 15 queries for friends.\n"
     ]
    },
    {
     "data": {
      "application/vnd.jupyter.widget-view+json": {
       "model_id": "4f1eeb74f53649bf99529f7b332d7d05",
       "version_major": 2,
       "version_minor": 0
      },
      "text/plain": [
       "HBox(children=(HTML(value=''), FloatProgress(value=0.0, max=15.0), HTML(value='')))"
      ]
     },
     "metadata": {},
     "output_type": "display_data"
    },
    {
     "name": "stdout",
     "output_type": "stream",
     "text": [
      "\n",
      "Next reset time: 2020-12-12 23:41:32 (UTC)\n",
      "Data saved!\n",
      "Number of collected followers: 280,188 (out of 1,662,736).\n",
      "Number of unique users: 3,756 (out of 18,689).\n",
      "Number of collected friends: 397,539 (out of 2,208,697).\n",
      "Number of unique users: 3,755 (out of 22,099).\n",
      "Waiting for 894 seconds to continue (until 2020-12-12 23:41:32 (UTC)).\n",
      "\n",
      "Executing 15 queries for followers.\n"
     ]
    },
    {
     "data": {
      "application/vnd.jupyter.widget-view+json": {
       "model_id": "3ef8269125b14451be08d034b4855d24",
       "version_major": 2,
       "version_minor": 0
      },
      "text/plain": [
       "HBox(children=(HTML(value=''), FloatProgress(value=0.0, max=15.0), HTML(value='')))"
      ]
     },
     "metadata": {},
     "output_type": "display_data"
    },
    {
     "name": "stdout",
     "output_type": "stream",
     "text": [
      "\n",
      "Next reset time: 2020-12-12 23:56:32 (UTC)\n",
      "Executing 15 queries for friends.\n"
     ]
    },
    {
     "data": {
      "application/vnd.jupyter.widget-view+json": {
       "model_id": "10390a7b1c4b4c36b728845fd3db0f93",
       "version_major": 2,
       "version_minor": 0
      },
      "text/plain": [
       "HBox(children=(HTML(value=''), FloatProgress(value=0.0, max=15.0), HTML(value='')))"
      ]
     },
     "metadata": {},
     "output_type": "display_data"
    },
    {
     "name": "stdout",
     "output_type": "stream",
     "text": [
      "\n",
      "Next reset time: 2020-12-12 23:56:36 (UTC)\n",
      "Data saved!\n",
      "Number of collected followers: 281,960 (out of 1,662,736).\n",
      "Number of unique users: 3,771 (out of 18,689).\n",
      "Number of collected friends: 398,938 (out of 2,208,697).\n",
      "Number of unique users: 3,770 (out of 22,099).\n",
      "Waiting for 894 seconds to continue (until 2020-12-12 23:56:36 (UTC)).\n",
      "\n",
      "Executing 15 queries for followers.\n"
     ]
    },
    {
     "data": {
      "application/vnd.jupyter.widget-view+json": {
       "model_id": "9e552162a1c74feb860fcef2c4a5e37e",
       "version_major": 2,
       "version_minor": 0
      },
      "text/plain": [
       "HBox(children=(HTML(value=''), FloatProgress(value=0.0, max=15.0), HTML(value='')))"
      ]
     },
     "metadata": {},
     "output_type": "display_data"
    },
    {
     "name": "stdout",
     "output_type": "stream",
     "text": [
      "https://api.twitter.com/1.1/followers/ids.json?user_id=830786712&cursor=-1&count=172\n",
      "Query 1 --     User 830786712: got 171 followers instead of 172.\n",
      "\n",
      "Next reset time: 2020-12-13 00:11:36 (UTC)\n",
      "Executing 15 queries for friends.\n"
     ]
    },
    {
     "data": {
      "application/vnd.jupyter.widget-view+json": {
       "model_id": "b47b99f0aa2b4810b257daa33a9ba157",
       "version_major": 2,
       "version_minor": 0
      },
      "text/plain": [
       "HBox(children=(HTML(value=''), FloatProgress(value=0.0, max=15.0), HTML(value='')))"
      ]
     },
     "metadata": {},
     "output_type": "display_data"
    },
    {
     "name": "stdout",
     "output_type": "stream",
     "text": [
      "\n",
      "Next reset time: 2020-12-13 00:11:40 (UTC)\n",
      "Data saved!\n",
      "Number of collected followers: 282,556 (out of 1,662,736).\n",
      "Number of unique users: 3,786 (out of 18,689).\n",
      "Number of collected friends: 399,082 (out of 2,208,697).\n",
      "Number of unique users: 3,785 (out of 22,099).\n",
      "Waiting for 894 seconds to continue (until 2020-12-13 00:11:40 (UTC)).\n",
      "\n",
      "Executing 15 queries for followers.\n"
     ]
    },
    {
     "data": {
      "application/vnd.jupyter.widget-view+json": {
       "model_id": "caf99018a7a54101aa9a6110882f9815",
       "version_major": 2,
       "version_minor": 0
      },
      "text/plain": [
       "HBox(children=(HTML(value=''), FloatProgress(value=0.0, max=15.0), HTML(value='')))"
      ]
     },
     "metadata": {},
     "output_type": "display_data"
    },
    {
     "name": "stdout",
     "output_type": "stream",
     "text": [
      "https://api.twitter.com/1.1/followers/ids.json?user_id=464596938&cursor=-1&count=16\n",
      "Query 2 --     User 464596938: got 15 followers instead of 16.\n",
      "https://api.twitter.com/1.1/followers/ids.json?user_id=312362331&cursor=-1&count=45\n",
      "Query 11 --    User 312362331: got 44 followers instead of 45.\n",
      "\n",
      "Next reset time: 2020-12-13 00:26:40 (UTC)\n",
      "Executing 15 queries for friends.\n"
     ]
    },
    {
     "data": {
      "application/vnd.jupyter.widget-view+json": {
       "model_id": "34835aaacd75491aad100f67b9c9eaaf",
       "version_major": 2,
       "version_minor": 0
      },
      "text/plain": [
       "HBox(children=(HTML(value=''), FloatProgress(value=0.0, max=15.0), HTML(value='')))"
      ]
     },
     "metadata": {},
     "output_type": "display_data"
    },
    {
     "name": "stdout",
     "output_type": "stream",
     "text": [
      "\n",
      "Next reset time: 2020-12-13 00:26:44 (UTC)\n",
      "Data saved!\n",
      "Number of collected followers: 282,836 (out of 1,662,736).\n",
      "Number of unique users: 3,801 (out of 18,689).\n",
      "Number of collected friends: 400,152 (out of 2,208,697).\n",
      "Number of unique users: 3,800 (out of 22,099).\n",
      "Waiting for 894 seconds to continue (until 2020-12-13 00:26:44 (UTC)).\n",
      "\n",
      "Executing 15 queries for followers.\n"
     ]
    },
    {
     "data": {
      "application/vnd.jupyter.widget-view+json": {
       "model_id": "4baa78af722946e6b64a130b90a65de7",
       "version_major": 2,
       "version_minor": 0
      },
      "text/plain": [
       "HBox(children=(HTML(value=''), FloatProgress(value=0.0, max=15.0), HTML(value='')))"
      ]
     },
     "metadata": {},
     "output_type": "display_data"
    },
    {
     "name": "stdout",
     "output_type": "stream",
     "text": [
      "\n",
      "Next reset time: 2020-12-13 00:41:44 (UTC)\n",
      "Executing 15 queries for friends.\n"
     ]
    },
    {
     "data": {
      "application/vnd.jupyter.widget-view+json": {
       "model_id": "873028c98de04d30ae96879461090746",
       "version_major": 2,
       "version_minor": 0
      },
      "text/plain": [
       "HBox(children=(HTML(value=''), FloatProgress(value=0.0, max=15.0), HTML(value='')))"
      ]
     },
     "metadata": {},
     "output_type": "display_data"
    },
    {
     "name": "stdout",
     "output_type": "stream",
     "text": [
      "\n",
      "Next reset time: 2020-12-13 00:41:48 (UTC)\n",
      "Data saved!\n",
      "Number of collected followers: 283,493 (out of 1,662,736).\n",
      "Number of unique users: 3,816 (out of 18,689).\n",
      "Number of collected friends: 402,176 (out of 2,208,697).\n",
      "Number of unique users: 3,815 (out of 22,099).\n",
      "Waiting for 894 seconds to continue (until 2020-12-13 00:41:48 (UTC)).\n",
      "\n",
      "Executing 15 queries for followers.\n"
     ]
    },
    {
     "data": {
      "application/vnd.jupyter.widget-view+json": {
       "model_id": "ad8ce40eb3284a79b06685537144815e",
       "version_major": 2,
       "version_minor": 0
      },
      "text/plain": [
       "HBox(children=(HTML(value=''), FloatProgress(value=0.0, max=15.0), HTML(value='')))"
      ]
     },
     "metadata": {},
     "output_type": "display_data"
    },
    {
     "name": "stdout",
     "output_type": "stream",
     "text": [
      "https://api.twitter.com/1.1/followers/ids.json?user_id=2304642019&cursor=-1&count=671\n",
      "Query 8 --     User 2304642019: got 669 followers instead of 671.\n",
      "https://api.twitter.com/1.1/followers/ids.json?user_id=1623933194&cursor=-1&count=213\n",
      "Query 10 --    User 1623933194: got 212 followers instead of 213.\n",
      "\n",
      "Next reset time: 2020-12-13 00:56:48 (UTC)\n",
      "Executing 15 queries for friends.\n"
     ]
    },
    {
     "data": {
      "application/vnd.jupyter.widget-view+json": {
       "model_id": "84c09e868bdf4424a4384250eae7955f",
       "version_major": 2,
       "version_minor": 0
      },
      "text/plain": [
       "HBox(children=(HTML(value=''), FloatProgress(value=0.0, max=15.0), HTML(value='')))"
      ]
     },
     "metadata": {},
     "output_type": "display_data"
    },
    {
     "name": "stdout",
     "output_type": "stream",
     "text": [
      "\n",
      "Next reset time: 2020-12-13 00:56:52 (UTC)\n",
      "Data saved!\n",
      "Number of collected followers: 284,842 (out of 1,662,736).\n",
      "Number of unique users: 3,831 (out of 18,689).\n",
      "Number of collected friends: 403,446 (out of 2,208,697).\n",
      "Number of unique users: 3,830 (out of 22,099).\n",
      "Waiting for 894 seconds to continue (until 2020-12-13 00:56:52 (UTC)).\n",
      "\n",
      "Executing 15 queries for followers.\n"
     ]
    },
    {
     "data": {
      "application/vnd.jupyter.widget-view+json": {
       "model_id": "122301155de04aa198866bb49031c543",
       "version_major": 2,
       "version_minor": 0
      },
      "text/plain": [
       "HBox(children=(HTML(value=''), FloatProgress(value=0.0, max=15.0), HTML(value='')))"
      ]
     },
     "metadata": {},
     "output_type": "display_data"
    },
    {
     "name": "stdout",
     "output_type": "stream",
     "text": [
      "\n",
      "Next reset time: 2020-12-13 01:11:52 (UTC)\n",
      "Executing 15 queries for friends.\n"
     ]
    },
    {
     "data": {
      "application/vnd.jupyter.widget-view+json": {
       "model_id": "bdec055e874b48e38d0f8cfcaa409f24",
       "version_major": 2,
       "version_minor": 0
      },
      "text/plain": [
       "HBox(children=(HTML(value=''), FloatProgress(value=0.0, max=15.0), HTML(value='')))"
      ]
     },
     "metadata": {},
     "output_type": "display_data"
    },
    {
     "name": "stdout",
     "output_type": "stream",
     "text": [
      "https://api.twitter.com/1.1/friends/ids.json?user_id=2343847324&cursor=-1&count=981\n",
      "Query 2 --     User 2343847324: got 980 friends instead of 981.\n",
      "\n",
      "Next reset time: 2020-12-13 01:11:56 (UTC)\n",
      "Data saved!\n",
      "Number of collected followers: 285,813 (out of 1,662,736).\n",
      "Number of unique users: 3,846 (out of 18,689).\n",
      "Number of collected friends: 407,012 (out of 2,208,697).\n",
      "Number of unique users: 3,845 (out of 22,099).\n",
      "Waiting for 894 seconds to continue (until 2020-12-13 01:11:56 (UTC)).\n",
      "\n",
      "Executing 15 queries for followers.\n"
     ]
    },
    {
     "data": {
      "application/vnd.jupyter.widget-view+json": {
       "model_id": "42a35ab507834c70b054b497a951a7ec",
       "version_major": 2,
       "version_minor": 0
      },
      "text/plain": [
       "HBox(children=(HTML(value=''), FloatProgress(value=0.0, max=15.0), HTML(value='')))"
      ]
     },
     "metadata": {},
     "output_type": "display_data"
    },
    {
     "name": "stdout",
     "output_type": "stream",
     "text": [
      "https://api.twitter.com/1.1/followers/ids.json?user_id=205252246&cursor=-1&count=624\n",
      "Query 4 --     User 205252246: got 622 followers instead of 624.\n",
      "https://api.twitter.com/1.1/followers/ids.json?user_id=1383432720&cursor=-1&count=106\n",
      "Query 13 --    User 1383432720: got 105 followers instead of 106.\n",
      "\n",
      "Next reset time: 2020-12-13 01:26:56 (UTC)\n",
      "Executing 15 queries for friends.\n"
     ]
    },
    {
     "data": {
      "application/vnd.jupyter.widget-view+json": {
       "model_id": "8d5630bfba954d6fb13d97169b7a4e4f",
       "version_major": 2,
       "version_minor": 0
      },
      "text/plain": [
       "HBox(children=(HTML(value=''), FloatProgress(value=0.0, max=15.0), HTML(value='')))"
      ]
     },
     "metadata": {},
     "output_type": "display_data"
    },
    {
     "name": "stdout",
     "output_type": "stream",
     "text": [
      "\n",
      "Next reset time: 2020-12-13 01:27:00 (UTC)\n",
      "Data saved!\n",
      "Number of collected followers: 290,218 (out of 1,662,736).\n",
      "Number of unique users: 3,861 (out of 18,689).\n",
      "Number of collected friends: 408,997 (out of 2,208,697).\n",
      "Number of unique users: 3,860 (out of 22,099).\n",
      "Waiting for 894 seconds to continue (until 2020-12-13 01:27:00 (UTC)).\n",
      "\n",
      "Executing 15 queries for followers.\n"
     ]
    },
    {
     "data": {
      "application/vnd.jupyter.widget-view+json": {
       "model_id": "64b221b6dc8444039201ed65ee124131",
       "version_major": 2,
       "version_minor": 0
      },
      "text/plain": [
       "HBox(children=(HTML(value=''), FloatProgress(value=0.0, max=15.0), HTML(value='')))"
      ]
     },
     "metadata": {},
     "output_type": "display_data"
    },
    {
     "name": "stdout",
     "output_type": "stream",
     "text": [
      "\n",
      "Next reset time: 2020-12-13 01:42:00 (UTC)\n",
      "Executing 15 queries for friends.\n"
     ]
    },
    {
     "data": {
      "application/vnd.jupyter.widget-view+json": {
       "model_id": "80f02167d87f4538a068830fe4267e62",
       "version_major": 2,
       "version_minor": 0
      },
      "text/plain": [
       "HBox(children=(HTML(value=''), FloatProgress(value=0.0, max=15.0), HTML(value='')))"
      ]
     },
     "metadata": {},
     "output_type": "display_data"
    },
    {
     "name": "stdout",
     "output_type": "stream",
     "text": [
      "\n",
      "Next reset time: 2020-12-13 01:42:04 (UTC)\n",
      "Data saved!\n",
      "Number of collected followers: 290,757 (out of 1,662,736).\n",
      "Number of unique users: 3,876 (out of 18,689).\n",
      "Number of collected friends: 409,657 (out of 2,208,697).\n",
      "Number of unique users: 3,875 (out of 22,099).\n",
      "Waiting for 893 seconds to continue (until 2020-12-13 01:42:04 (UTC)).\n",
      "\n",
      "Executing 15 queries for followers.\n"
     ]
    },
    {
     "data": {
      "application/vnd.jupyter.widget-view+json": {
       "model_id": "4aec68ecb0704d458a9fe3fa0a85f10f",
       "version_major": 2,
       "version_minor": 0
      },
      "text/plain": [
       "HBox(children=(HTML(value=''), FloatProgress(value=0.0, max=15.0), HTML(value='')))"
      ]
     },
     "metadata": {},
     "output_type": "display_data"
    },
    {
     "name": "stdout",
     "output_type": "stream",
     "text": [
      "https://api.twitter.com/1.1/followers/ids.json?user_id=716423898&cursor=-1&count=15\n",
      "Query 5 --     User 716423898: got 14 followers instead of 15.\n",
      "\n",
      "Next reset time: 2020-12-13 01:57:04 (UTC)\n",
      "Executing 15 queries for friends.\n"
     ]
    },
    {
     "data": {
      "application/vnd.jupyter.widget-view+json": {
       "model_id": "3968b10e459849c5993181c68c7a52c4",
       "version_major": 2,
       "version_minor": 0
      },
      "text/plain": [
       "HBox(children=(HTML(value=''), FloatProgress(value=0.0, max=15.0), HTML(value='')))"
      ]
     },
     "metadata": {},
     "output_type": "display_data"
    },
    {
     "name": "stdout",
     "output_type": "stream",
     "text": [
      "https://api.twitter.com/1.1/friends/ids.json?user_id=1223367151&cursor=-1&count=901\n",
      "Query 13 --    User 1223367151: got 900 friends instead of 901.\n",
      "\n",
      "Next reset time: 2020-12-13 01:57:08 (UTC)\n",
      "Data saved!\n",
      "Number of collected followers: 291,050 (out of 1,662,736).\n",
      "Number of unique users: 3,891 (out of 18,689).\n",
      "Number of collected friends: 410,899 (out of 2,208,697).\n",
      "Number of unique users: 3,890 (out of 22,099).\n",
      "Waiting for 894 seconds to continue (until 2020-12-13 01:57:08 (UTC)).\n",
      "\n",
      "Executing 15 queries for followers.\n"
     ]
    },
    {
     "data": {
      "application/vnd.jupyter.widget-view+json": {
       "model_id": "4ceb03c99e104be59a91a31836409235",
       "version_major": 2,
       "version_minor": 0
      },
      "text/plain": [
       "HBox(children=(HTML(value=''), FloatProgress(value=0.0, max=15.0), HTML(value='')))"
      ]
     },
     "metadata": {},
     "output_type": "display_data"
    },
    {
     "name": "stdout",
     "output_type": "stream",
     "text": [
      "https://api.twitter.com/1.1/followers/ids.json?user_id=938043882&cursor=-1&count=21\n",
      "Query 12 --    User 938043882: got 20 followers instead of 21.\n",
      "https://api.twitter.com/1.1/followers/ids.json?user_id=281247721&cursor=-1&count=3480\n",
      "Query 14 --    User 281247721: got 3,478 followers instead of 3,480.\n",
      "\n",
      "Next reset time: 2020-12-13 02:12:08 (UTC)\n",
      "Executing 15 queries for friends.\n"
     ]
    },
    {
     "data": {
      "application/vnd.jupyter.widget-view+json": {
       "model_id": "75abfac9d0724a62844727ca386710dd",
       "version_major": 2,
       "version_minor": 0
      },
      "text/plain": [
       "HBox(children=(HTML(value=''), FloatProgress(value=0.0, max=15.0), HTML(value='')))"
      ]
     },
     "metadata": {},
     "output_type": "display_data"
    },
    {
     "name": "stdout",
     "output_type": "stream",
     "text": [
      "https://api.twitter.com/1.1/friends/ids.json?user_id=2937707710&cursor=-1&count=564\n",
      "Query 4 --     User 2937707710: got 562 friends instead of 564.\n",
      "\n",
      "Next reset time: 2020-12-13 02:12:12 (UTC)\n",
      "Data saved!\n",
      "Number of collected followers: 294,936 (out of 1,662,736).\n",
      "Number of unique users: 3,906 (out of 18,689).\n",
      "Number of collected friends: 411,650 (out of 2,208,697).\n",
      "Number of unique users: 3,905 (out of 22,099).\n",
      "Waiting for 894 seconds to continue (until 2020-12-13 02:12:12 (UTC)).\n",
      "\n",
      "Executing 15 queries for followers.\n"
     ]
    },
    {
     "data": {
      "application/vnd.jupyter.widget-view+json": {
       "model_id": "0f3b7a0ef9094943bff592aaca15e7ba",
       "version_major": 2,
       "version_minor": 0
      },
      "text/plain": [
       "HBox(children=(HTML(value=''), FloatProgress(value=0.0, max=15.0), HTML(value='')))"
      ]
     },
     "metadata": {},
     "output_type": "display_data"
    },
    {
     "name": "stdout",
     "output_type": "stream",
     "text": [
      "\n",
      "Next reset time: 2020-12-13 02:27:12 (UTC)\n",
      "Executing 15 queries for friends.\n"
     ]
    },
    {
     "data": {
      "application/vnd.jupyter.widget-view+json": {
       "model_id": "40ba87e857234c54885aa5832a02f982",
       "version_major": 2,
       "version_minor": 0
      },
      "text/plain": [
       "HBox(children=(HTML(value=''), FloatProgress(value=0.0, max=15.0), HTML(value='')))"
      ]
     },
     "metadata": {},
     "output_type": "display_data"
    },
    {
     "name": "stdout",
     "output_type": "stream",
     "text": [
      "\n",
      "Next reset time: 2020-12-13 02:27:16 (UTC)\n",
      "Data saved!\n",
      "Number of collected followers: 295,486 (out of 1,662,736).\n",
      "Number of unique users: 3,921 (out of 18,689).\n",
      "Number of collected friends: 414,330 (out of 2,208,697).\n",
      "Number of unique users: 3,920 (out of 22,099).\n",
      "Waiting for 894 seconds to continue (until 2020-12-13 02:27:16 (UTC)).\n",
      "\n",
      "Executing 15 queries for followers.\n"
     ]
    },
    {
     "data": {
      "application/vnd.jupyter.widget-view+json": {
       "model_id": "3a5cdd9c7e5c416898a2d363f8520f28",
       "version_major": 2,
       "version_minor": 0
      },
      "text/plain": [
       "HBox(children=(HTML(value=''), FloatProgress(value=0.0, max=15.0), HTML(value='')))"
      ]
     },
     "metadata": {},
     "output_type": "display_data"
    },
    {
     "name": "stdout",
     "output_type": "stream",
     "text": [
      "\n",
      "Next reset time: 2020-12-13 02:42:16 (UTC)\n",
      "Executing 15 queries for friends.\n"
     ]
    },
    {
     "data": {
      "application/vnd.jupyter.widget-view+json": {
       "model_id": "1164d1ae95714eaeb7b656fb2e4f0515",
       "version_major": 2,
       "version_minor": 0
      },
      "text/plain": [
       "HBox(children=(HTML(value=''), FloatProgress(value=0.0, max=15.0), HTML(value='')))"
      ]
     },
     "metadata": {},
     "output_type": "display_data"
    },
    {
     "name": "stdout",
     "output_type": "stream",
     "text": [
      "\n",
      "Next reset time: 2020-12-13 02:42:20 (UTC)\n",
      "Data saved!\n",
      "Number of collected followers: 296,156 (out of 1,662,736).\n",
      "Number of unique users: 3,936 (out of 18,689).\n",
      "Number of collected friends: 415,041 (out of 2,208,697).\n",
      "Number of unique users: 3,935 (out of 22,099).\n",
      "Waiting for 894 seconds to continue (until 2020-12-13 02:42:20 (UTC)).\n",
      "\n",
      "Executing 15 queries for followers.\n"
     ]
    },
    {
     "data": {
      "application/vnd.jupyter.widget-view+json": {
       "model_id": "985e73cd8a60416bb2c601cd46a74648",
       "version_major": 2,
       "version_minor": 0
      },
      "text/plain": [
       "HBox(children=(HTML(value=''), FloatProgress(value=0.0, max=15.0), HTML(value='')))"
      ]
     },
     "metadata": {},
     "output_type": "display_data"
    },
    {
     "name": "stdout",
     "output_type": "stream",
     "text": [
      "https://api.twitter.com/1.1/followers/ids.json?user_id=1373862175&cursor=-1&count=215\n",
      "Query 8 --     User 1373862175: got 214 followers instead of 215.\n",
      "\n",
      "Next reset time: 2020-12-13 02:57:20 (UTC)\n",
      "Executing 15 queries for friends.\n"
     ]
    },
    {
     "data": {
      "application/vnd.jupyter.widget-view+json": {
       "model_id": "8ef2ca5aa79248e3a517b6c0cc9017b9",
       "version_major": 2,
       "version_minor": 0
      },
      "text/plain": [
       "HBox(children=(HTML(value=''), FloatProgress(value=0.0, max=15.0), HTML(value='')))"
      ]
     },
     "metadata": {},
     "output_type": "display_data"
    },
    {
     "name": "stdout",
     "output_type": "stream",
     "text": [
      "\n",
      "Next reset time: 2020-12-13 02:57:24 (UTC)\n",
      "Data saved!\n",
      "Number of collected followers: 297,301 (out of 1,662,736).\n",
      "Number of unique users: 3,951 (out of 18,689).\n",
      "Number of collected friends: 416,412 (out of 2,208,697).\n",
      "Number of unique users: 3,950 (out of 22,099).\n",
      "Waiting for 894 seconds to continue (until 2020-12-13 02:57:24 (UTC)).\n",
      "\n",
      "Executing 15 queries for followers.\n"
     ]
    },
    {
     "data": {
      "application/vnd.jupyter.widget-view+json": {
       "model_id": "141b66c8fefa448993faf0a50bb8a147",
       "version_major": 2,
       "version_minor": 0
      },
      "text/plain": [
       "HBox(children=(HTML(value=''), FloatProgress(value=0.0, max=15.0), HTML(value='')))"
      ]
     },
     "metadata": {},
     "output_type": "display_data"
    },
    {
     "name": "stdout",
     "output_type": "stream",
     "text": [
      "https://api.twitter.com/1.1/followers/ids.json?user_id=2176551135&cursor=-1&count=469\n",
      "Query 8 --     User 2176551135: got 468 followers instead of 469.\n",
      "https://api.twitter.com/1.1/followers/ids.json?user_id=415709718&cursor=-1&count=1494\n",
      "Query 14 --    User 415709718: got 1,489 followers instead of 1,494.\n",
      "\n",
      "Next reset time: 2020-12-13 03:12:24 (UTC)\n",
      "Executing 15 queries for friends.\n"
     ]
    },
    {
     "data": {
      "application/vnd.jupyter.widget-view+json": {
       "model_id": "b64f3cdd17c943798a8b7e2dad6d23fd",
       "version_major": 2,
       "version_minor": 0
      },
      "text/plain": [
       "HBox(children=(HTML(value=''), FloatProgress(value=0.0, max=15.0), HTML(value='')))"
      ]
     },
     "metadata": {},
     "output_type": "display_data"
    },
    {
     "name": "stdout",
     "output_type": "stream",
     "text": [
      "https://api.twitter.com/1.1/friends/ids.json?user_id=302797718&cursor=-1&count=1151\n",
      "Query 3 --     User 302797718: got 742 friends instead of 1,151.\n",
      "\n",
      "Next reset time: 2020-12-13 03:12:28 (UTC)\n",
      "Data saved!\n",
      "Number of collected followers: 299,354 (out of 1,662,736).\n",
      "Number of unique users: 3,966 (out of 18,689).\n",
      "Number of collected friends: 417,340 (out of 2,208,697).\n",
      "Number of unique users: 3,965 (out of 22,099).\n",
      "Waiting for 894 seconds to continue (until 2020-12-13 03:12:28 (UTC)).\n",
      "\n",
      "Executing 15 queries for followers.\n"
     ]
    },
    {
     "data": {
      "application/vnd.jupyter.widget-view+json": {
       "model_id": "78e6bf376ca14dc6bc1e53997e029e1d",
       "version_major": 2,
       "version_minor": 0
      },
      "text/plain": [
       "HBox(children=(HTML(value=''), FloatProgress(value=0.0, max=15.0), HTML(value='')))"
      ]
     },
     "metadata": {},
     "output_type": "display_data"
    },
    {
     "name": "stdout",
     "output_type": "stream",
     "text": [
      "\n",
      "Next reset time: 2020-12-13 03:27:28 (UTC)\n",
      "Executing 15 queries for friends.\n"
     ]
    },
    {
     "data": {
      "application/vnd.jupyter.widget-view+json": {
       "model_id": "c75470a71c3d4d44b1e01e07a74ce5aa",
       "version_major": 2,
       "version_minor": 0
      },
      "text/plain": [
       "HBox(children=(HTML(value=''), FloatProgress(value=0.0, max=15.0), HTML(value='')))"
      ]
     },
     "metadata": {},
     "output_type": "display_data"
    },
    {
     "name": "stdout",
     "output_type": "stream",
     "text": [
      "https://api.twitter.com/1.1/friends/ids.json?user_id=23074339&cursor=-1&count=72\n",
      "Query 9 --     User 23074339: got 71 friends instead of 72.\n",
      "\n",
      "Next reset time: 2020-12-13 03:27:32 (UTC)\n",
      "Data saved!\n",
      "Number of collected followers: 302,054 (out of 1,662,736).\n",
      "Number of unique users: 3,981 (out of 18,689).\n",
      "Number of collected friends: 418,012 (out of 2,208,697).\n",
      "Number of unique users: 3,980 (out of 22,099).\n",
      "Waiting for 894 seconds to continue (until 2020-12-13 03:27:32 (UTC)).\n",
      "\n",
      "Executing 15 queries for followers.\n"
     ]
    },
    {
     "data": {
      "application/vnd.jupyter.widget-view+json": {
       "model_id": "83312f4724ac48468f267e5bdb21bb71",
       "version_major": 2,
       "version_minor": 0
      },
      "text/plain": [
       "HBox(children=(HTML(value=''), FloatProgress(value=0.0, max=15.0), HTML(value='')))"
      ]
     },
     "metadata": {},
     "output_type": "display_data"
    },
    {
     "name": "stdout",
     "output_type": "stream",
     "text": [
      "\n",
      "Next reset time: 2020-12-13 03:42:32 (UTC)\n",
      "Executing 15 queries for friends.\n"
     ]
    },
    {
     "data": {
      "application/vnd.jupyter.widget-view+json": {
       "model_id": "a05d48f0115f4749a197276ff0a0e377",
       "version_major": 2,
       "version_minor": 0
      },
      "text/plain": [
       "HBox(children=(HTML(value=''), FloatProgress(value=0.0, max=15.0), HTML(value='')))"
      ]
     },
     "metadata": {},
     "output_type": "display_data"
    },
    {
     "name": "stdout",
     "output_type": "stream",
     "text": [
      "\n",
      "Next reset time: 2020-12-13 03:42:36 (UTC)\n",
      "Data saved!\n",
      "Number of collected followers: 302,551 (out of 1,662,736).\n",
      "Number of unique users: 3,996 (out of 18,689).\n",
      "Number of collected friends: 418,395 (out of 2,208,697).\n",
      "Number of unique users: 3,995 (out of 22,099).\n",
      "Waiting for 894 seconds to continue (until 2020-12-13 03:42:36 (UTC)).\n",
      "\n",
      "Executing 15 queries for followers.\n"
     ]
    },
    {
     "data": {
      "application/vnd.jupyter.widget-view+json": {
       "model_id": "b10dbe85c9a6457b943c96198e9c1115",
       "version_major": 2,
       "version_minor": 0
      },
      "text/plain": [
       "HBox(children=(HTML(value=''), FloatProgress(value=0.0, max=15.0), HTML(value='')))"
      ]
     },
     "metadata": {},
     "output_type": "display_data"
    },
    {
     "name": "stdout",
     "output_type": "stream",
     "text": [
      "\n",
      "Next reset time: 2020-12-13 03:57:37 (UTC)\n",
      "Executing 15 queries for friends.\n"
     ]
    },
    {
     "data": {
      "application/vnd.jupyter.widget-view+json": {
       "model_id": "fcfb9e56be45412db6ca5a5783b46531",
       "version_major": 2,
       "version_minor": 0
      },
      "text/plain": [
       "HBox(children=(HTML(value=''), FloatProgress(value=0.0, max=15.0), HTML(value='')))"
      ]
     },
     "metadata": {},
     "output_type": "display_data"
    },
    {
     "name": "stdout",
     "output_type": "stream",
     "text": [
      "https://api.twitter.com/1.1/friends/ids.json?user_id=293429956&cursor=-1&count=476\n",
      "Query 12 --    User 293429956: got 475 friends instead of 476.\n",
      "\n",
      "Next reset time: 2020-12-13 03:57:41 (UTC)\n",
      "Data saved!\n",
      "Number of collected followers: 302,770 (out of 1,662,736).\n",
      "Number of unique users: 4,011 (out of 18,689).\n",
      "Number of collected friends: 419,362 (out of 2,208,697).\n",
      "Number of unique users: 4,010 (out of 22,099).\n",
      "Waiting for 894 seconds to continue (until 2020-12-13 03:57:41 (UTC)).\n",
      "\n",
      "Executing 15 queries for followers.\n"
     ]
    },
    {
     "data": {
      "application/vnd.jupyter.widget-view+json": {
       "model_id": "0a9a579bd93443e096e4bf7652617be0",
       "version_major": 2,
       "version_minor": 0
      },
      "text/plain": [
       "HBox(children=(HTML(value=''), FloatProgress(value=0.0, max=15.0), HTML(value='')))"
      ]
     },
     "metadata": {},
     "output_type": "display_data"
    },
    {
     "name": "stdout",
     "output_type": "stream",
     "text": [
      "https://api.twitter.com/1.1/followers/ids.json?user_id=2213780530&cursor=-1&count=131\n",
      "Query 5 --     User 2213780530: got 129 followers instead of 131.\n",
      "https://api.twitter.com/1.1/followers/ids.json?user_id=330811177&cursor=-1&count=295\n",
      "Query 7 --     User 330811177: got 293 followers instead of 295.\n",
      "https://api.twitter.com/1.1/followers/ids.json?user_id=287530268&cursor=-1&count=173\n",
      "Query 12 --    User 287530268: got 172 followers instead of 173.\n",
      "\n",
      "Next reset time: 2020-12-13 04:12:41 (UTC)\n",
      "Executing 15 queries for friends.\n"
     ]
    },
    {
     "data": {
      "application/vnd.jupyter.widget-view+json": {
       "model_id": "ed8de9531e5f4d30a5afe7a0edbcb134",
       "version_major": 2,
       "version_minor": 0
      },
      "text/plain": [
       "HBox(children=(HTML(value=''), FloatProgress(value=0.0, max=15.0), HTML(value='')))"
      ]
     },
     "metadata": {},
     "output_type": "display_data"
    },
    {
     "name": "stdout",
     "output_type": "stream",
     "text": [
      "\n",
      "Next reset time: 2020-12-13 04:12:45 (UTC)\n",
      "\n",
      "Pull is done!\n",
      "\n",
      "Data saved!\n"
     ]
    }
   ],
   "source": [
    "if PULL_NEW_FF_DATA:\n",
    "    # Load existing data\n",
    "    user_followers_data = load_user_ff_df(\n",
    "        file=PUBLIC_USERS_FOLLOWERS_FILE,\n",
    "        create_data_status=CREATE_DATA_PULL_STATUS,\n",
    "        init_df_func=get_initial_followers_df,\n",
    "    )\n",
    "    user_friends_data = load_user_ff_df(\n",
    "        file=PUBLIC_USERS_FRIENDS_FILE,\n",
    "        create_data_status=CREATE_DATA_PULL_STATUS,\n",
    "        init_df_func=get_initial_friends_df,\n",
    "    )\n",
    "\n",
    "    # Pull data\n",
    "    user_data_pull_status, user_followers_data, reset_time = pull_new_follower_data(\n",
    "        user_data_pull_status, user_followers_data\n",
    "    )\n",
    "    # Redefining the reset time creates a negligible lag but ensures that all 30 requests are made for each run\n",
    "    user_data_pull_status, user_friends_data, reset_time = pull_new_friend_data(\n",
    "        user_data_pull_status, user_friends_data\n",
    "    )\n",
    "\n",
    "    # Repeat pull sequence\n",
    "    if N_RUNS_PULL_FF_DATA > 1:\n",
    "        for run in range(N_RUNS_PULL_FF_DATA - 1):\n",
    "            # Save data\n",
    "            if SAVE_PULLED_DATA:\n",
    "                # Save data to disk\n",
    "                user_followers_data.to_csv(PUBLIC_USERS_FOLLOWERS_FILE, index=False)\n",
    "                user_friends_data.to_csv(PUBLIC_USERS_FRIENDS_FILE, index=False)\n",
    "                user_data_pull_status.to_csv(PUBLIC_USERS_PULL_STATUS_FILE)\n",
    "                print(\"Data saved!\")\n",
    "\n",
    "            # Print statistics\n",
    "            print(\n",
    "                \"Number of collected followers: {:,} (out of {:,}).\\nNumber of unique users: {:,} (out of {:,}).\".format(\n",
    "                    user_followers_data.shape[0],\n",
    "                    np.sum(user_data_pull_status.followers_count.values),\n",
    "                    len(np.unique(user_followers_data.user_id.values)),\n",
    "                    public_users_w_followers.shape[0],\n",
    "                )\n",
    "            )\n",
    "            print(\n",
    "                \"Number of collected friends: {:,} (out of {:,}).\\nNumber of unique users: {:,} (out of {:,}).\".format(\n",
    "                    user_friends_data.shape[0],\n",
    "                    np.sum(user_data_pull_status.following_count.values),\n",
    "                    len(np.unique(user_friends_data.user_id.values)),\n",
    "                    public_users_w_friends.shape[0],\n",
    "                )\n",
    "            )\n",
    "\n",
    "            # Sleep until rate limit reset\n",
    "            sleep_time = (\n",
    "                datetime.strptime(reset_time, \"%Y-%m-%d %H:%M:%S\") - datetime.utcnow()\n",
    "            ).total_seconds()\n",
    "            print(\n",
    "                \"Waiting for {:,.0f} seconds to continue (until {} (UTC)).\\n\".format(\n",
    "                    sleep_time, reset_time\n",
    "                )\n",
    "            )\n",
    "            if sleep_time > 0:\n",
    "                time.sleep(sleep_time)\n",
    "\n",
    "            # Pull data\n",
    "            (\n",
    "                user_data_pull_status,\n",
    "                user_followers_data,\n",
    "                reset_time,\n",
    "            ) = pull_new_follower_data(user_data_pull_status, user_followers_data)\n",
    "            user_data_pull_status, user_friends_data, reset_time = pull_new_friend_data(\n",
    "                user_data_pull_status, user_friends_data\n",
    "            )\n",
    "\n",
    "    print(\"\\nPull is done!\\n\")\n",
    "\n",
    "    if SAVE_PULLED_DATA:\n",
    "        # Save data to disk\n",
    "        user_followers_data.to_csv(PUBLIC_USERS_FOLLOWERS_FILE, index=False)\n",
    "        user_friends_data.to_csv(PUBLIC_USERS_FRIENDS_FILE, index=False)\n",
    "        user_data_pull_status.to_csv(PUBLIC_USERS_PULL_STATUS_FILE)\n",
    "        print(\"Data saved!\")"
   ]
  },
  {
   "cell_type": "markdown",
   "metadata": {},
   "source": [
    "---"
   ]
  },
  {
   "cell_type": "markdown",
   "metadata": {},
   "source": [
    "# Break"
   ]
  },
  {
   "cell_type": "code",
   "execution_count": 24,
   "metadata": {},
   "outputs": [
    {
     "ename": "SyntaxError",
     "evalue": "'break' outside loop (<ipython-input-24-6aaf1f276005>, line 1)",
     "output_type": "error",
     "traceback": [
      "\u001b[0;36m  File \u001b[0;32m\"<ipython-input-24-6aaf1f276005>\"\u001b[0;36m, line \u001b[0;32m1\u001b[0m\n\u001b[0;31m    break\u001b[0m\n\u001b[0m    ^\u001b[0m\n\u001b[0;31mSyntaxError\u001b[0m\u001b[0;31m:\u001b[0m 'break' outside loop\n"
     ]
    }
   ],
   "source": [
    "break"
   ]
  },
  {
   "cell_type": "markdown",
   "metadata": {},
   "source": [
    "# Test section"
   ]
  },
  {
   "cell_type": "code",
   "execution_count": null,
   "metadata": {},
   "outputs": [],
   "source": [
    "user_data_pull_status[user_data_pull_status.tweet_count > 0].head(15)"
   ]
  },
  {
   "cell_type": "code",
   "execution_count": null,
   "metadata": {},
   "outputs": [],
   "source": [
    "get_initial_followers_df().shape[0]"
   ]
  },
  {
   "cell_type": "code",
   "execution_count": null,
   "metadata": {},
   "outputs": [],
   "source": [
    "r = requests.get(\n",
    "    \"https://api.twitter.com/1.1/followers/ids.json?user_id=555533734&cursor=-1&count=311\",\n",
    "    headers=headers,\n",
    ")"
   ]
  },
  {
   "cell_type": "code",
   "execution_count": null,
   "metadata": {},
   "outputs": [],
   "source": [
    "test = pd.DataFrame(\n",
    "    r.json(),\n",
    "    columns=[\n",
    "        \"user_id\",\n",
    "        \"ids\",\n",
    "        \"next_cursor\",\n",
    "    ],\n",
    "    dtype=int,\n",
    ").fillna(\"\")\n",
    "test"
   ]
  },
  {
   "cell_type": "code",
   "execution_count": null,
   "metadata": {},
   "outputs": [],
   "source": [
    "len(r.json()[\"ids\"])"
   ]
  },
  {
   "cell_type": "code",
   "execution_count": null,
   "metadata": {},
   "outputs": [],
   "source": [
    "np.unique(user_timeline_data.id.values).shape[0]"
   ]
  },
  {
   "cell_type": "code",
   "execution_count": null,
   "metadata": {},
   "outputs": [],
   "source": [
    "import os\n",
    "\n",
    "os.path.isfile(PUBLIC_USERS_FILE)"
   ]
  },
  {
   "cell_type": "code",
   "execution_count": null,
   "metadata": {},
   "outputs": [],
   "source": [
    "pd.DataFrame(\n",
    "    columns=[\n",
    "        \"user_id\",\n",
    "        \"user\",\n",
    "        \"id\",\n",
    "        \"created_at\",\n",
    "        \"text\",\n",
    "        \"in_reply_to_status_id\",\n",
    "        \"in_reply_to_user_id\",\n",
    "        \"source\",\n",
    "        \"truncated\",\n",
    "        \"coordinates\",\n",
    "        \"place\",\n",
    "        \"is_quote_status\",\n",
    "        \"quoted_status_id\",\n",
    "        \"quoted_status\",\n",
    "        \"quote_count\",\n",
    "        \"retweeted_status\",\n",
    "        \"retweet_count\",\n",
    "        \"favorite_count\",\n",
    "        \"entities\",\n",
    "        \"extended_entities\",\n",
    "        \"possibly_sensitive\",\n",
    "        \"lang\",\n",
    "    ],\n",
    "    # Replace NaNs by empty strings to facilitate pre-processing\n",
    ")"
   ]
  },
  {
   "cell_type": "code",
   "execution_count": null,
   "metadata": {},
   "outputs": [],
   "source": [
    "user_data_pull_status = user_data[\n",
    "    [\"id\", \"followers_count\", \"following_count\", \"tweet_count\"]\n",
    "].copy()"
   ]
  },
  {
   "cell_type": "code",
   "execution_count": null,
   "metadata": {},
   "outputs": [],
   "source": [
    "user_data_pull_status[\"timeline_lowest_id\"] = -1\n",
    "user_data_pull_status[\"timeline_tweets_pulled\"] = -1\n",
    "\n",
    "user_data_pull_status[\"followers_cursor\"] = -1\n",
    "user_data_pull_status[\"followers_pulled\"] = -1\n",
    "\n",
    "user_data_pull_status[\"following_cursor\"] = -1\n",
    "user_data_pull_status[\"following_pulled\"] = -1"
   ]
  },
  {
   "cell_type": "code",
   "execution_count": null,
   "metadata": {},
   "outputs": [],
   "source": [
    "user_data_pull_status = user_data_pull_status[\n",
    "    [\n",
    "        \"id\",\n",
    "        \"timeline_lowest_id\",\n",
    "        \"timeline_tweets_pulled\",\n",
    "        \"tweet_count\",\n",
    "        \"followers_cursor\",\n",
    "        \"followers_pulled\",\n",
    "        \"followers_count\",\n",
    "        \"following_cursor\",\n",
    "        \"following_pulled\",\n",
    "        \"following_count\",\n",
    "    ]\n",
    "]\n",
    "user_data_pull_status"
   ]
  },
  {
   "cell_type": "code",
   "execution_count": null,
   "metadata": {},
   "outputs": [],
   "source": [
    "req = (\n",
    "    \"https://api.twitter.com/1.1/application/rate_limit_status.json\"\n",
    "    #     + \"783214,15994119,1320117356\"\n",
    "    #     + \"&\"\n",
    "    #     + API_USER_FIELDS\n",
    "    #     + \"&\"\n",
    "    #     + API_TWEET_FIELDS\n",
    ")\n",
    "payload = {\"resources\": \"application,statuses,followers,friends\"}\n",
    "print(req)\n",
    "r = requests.get(req, headers=headers, params=payload)\n",
    "print(r.url)"
   ]
  },
  {
   "cell_type": "code",
   "execution_count": null,
   "metadata": {},
   "outputs": [],
   "source": [
    "r.json()[\"resources\"][\"statuses\"][\"/statuses/user_timeline\"]"
   ]
  },
  {
   "cell_type": "code",
   "execution_count": null,
   "metadata": {},
   "outputs": [],
   "source": [
    "req = API_USER_TIMELINE_ENDPOINT + \"?user_id=783214\" + \"&count=10\"\n",
    "print(req)\n",
    "r = requests.get(req, headers=headers)"
   ]
  },
  {
   "cell_type": "code",
   "execution_count": null,
   "metadata": {},
   "outputs": [],
   "source": [
    "r.json()"
   ]
  },
  {
   "cell_type": "code",
   "execution_count": null,
   "metadata": {},
   "outputs": [],
   "source": [
    "test = get_user_timeline_df(r)"
   ]
  },
  {
   "cell_type": "code",
   "execution_count": null,
   "metadata": {},
   "outputs": [],
   "source": [
    "test"
   ]
  },
  {
   "cell_type": "code",
   "execution_count": null,
   "metadata": {},
   "outputs": [],
   "source": [
    "test.created_at = pd.to_datetime(test.created_at)"
   ]
  },
  {
   "cell_type": "code",
   "execution_count": null,
   "metadata": {},
   "outputs": [],
   "source": [
    "test.sort_values(by=\"id\").user[0]"
   ]
  },
  {
   "cell_type": "code",
   "execution_count": null,
   "metadata": {},
   "outputs": [],
   "source": [
    "int(r.headers[\"x-rate-limit-remaining\"])"
   ]
  },
  {
   "cell_type": "code",
   "execution_count": null,
   "metadata": {},
   "outputs": [],
   "source": [
    "wait_for_reset(r)"
   ]
  },
  {
   "cell_type": "code",
   "execution_count": null,
   "metadata": {},
   "outputs": [],
   "source": [
    "df = pd.DataFrame(\n",
    "    r.json()[\"data\"],\n",
    "    columns=[\n",
    "        \"id\",\n",
    "        \"username\",\n",
    "        \"name\",\n",
    "        \"protected\",\n",
    "        \"withheld\",\n",
    "        \"verified\",\n",
    "        \"created_at\",\n",
    "        \"location\",\n",
    "        \"public_metrics\",\n",
    "        \"description\",\n",
    "        \"url\",\n",
    "        \"entities\",\n",
    "        \"pinned_tweet_id\",\n",
    "    ],\n",
    ").fillna(\"\")\n",
    "df"
   ]
  },
  {
   "cell_type": "code",
   "execution_count": null,
   "metadata": {},
   "outputs": [],
   "source": [
    "df.public_metrics[0]"
   ]
  },
  {
   "cell_type": "code",
   "execution_count": null,
   "metadata": {},
   "outputs": [],
   "source": [
    "783214 in user_data.id.values.astype(int)"
   ]
  },
  {
   "cell_type": "code",
   "execution_count": null,
   "metadata": {},
   "outputs": [],
   "source": [
    "timeline_cols = [\"timeline_lowest_id\", \"timeline_tweets_pulled\", \"tweet_count\"]\n",
    "other_cols = [x for x in user_data_pull_status.columns if x not in timeline_cols]"
   ]
  },
  {
   "cell_type": "code",
   "execution_count": null,
   "metadata": {},
   "outputs": [],
   "source": [
    "user_data_pull_status_timeline = user_data_pull_status[timeline_cols].copy()\n",
    "user_data_pull_status_timeline.head()"
   ]
  },
  {
   "cell_type": "code",
   "execution_count": null,
   "metadata": {},
   "outputs": [],
   "source": [
    "user_data_pull_status_timeline.to_csv(\n",
    "    DATA_FOLDER + \"public_users_pull_status_timeline.csv\"\n",
    ")"
   ]
  },
  {
   "cell_type": "code",
   "execution_count": null,
   "metadata": {},
   "outputs": [],
   "source": [
    "user_data_pull_status_ff = user_data_pull_status[other_cols].copy()\n",
    "user_data_pull_status_ff.head()"
   ]
  },
  {
   "cell_type": "code",
   "execution_count": null,
   "metadata": {},
   "outputs": [],
   "source": [
    "user_data_pull_status_ff.to_csv(DATA_FOLDER + \"public_users_pull_status_ff.csv\")"
   ]
  },
  {
   "cell_type": "code",
   "execution_count": null,
   "metadata": {},
   "outputs": [],
   "source": [
    "user_data_pull_status_timeline.join(user_data_pull_status_ff)"
   ]
  },
  {
   "cell_type": "code",
   "execution_count": null,
   "metadata": {},
   "outputs": [],
   "source": [
    "user_data_pull_status.head()"
   ]
  },
  {
   "cell_type": "code",
   "execution_count": null,
   "metadata": {},
   "outputs": [],
   "source": [
    "np.sum(\n",
    "    ~np.equal(\n",
    "        user_data_pull_status.values,\n",
    "        user_data_pull_status_timeline.join(user_data_pull_status_ff).values,\n",
    "    )\n",
    ")"
   ]
  }
 ],
 "metadata": {
  "kernelspec": {
   "display_name": "2020-ada",
   "language": "python",
   "name": "2020-ada"
  },
  "language_info": {
   "codemirror_mode": {
    "name": "ipython",
    "version": 3
   },
   "file_extension": ".py",
   "mimetype": "text/x-python",
   "name": "python",
   "nbconvert_exporter": "python",
   "pygments_lexer": "ipython3",
   "version": "3.8.5"
  },
  "toc-autonumbering": false
 },
 "nbformat": 4,
 "nbformat_minor": 4
}
